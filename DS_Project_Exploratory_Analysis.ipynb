{
  "nbformat": 4,
  "nbformat_minor": 0,
  "metadata": {
    "colab": {
      "provenance": [],
      "toc_visible": true,
      "authorship_tag": "ABX9TyN1IZuip0iCfV94VOFKAdIu",
      "include_colab_link": true
    },
    "kernelspec": {
      "name": "python3",
      "display_name": "Python 3"
    },
    "language_info": {
      "name": "python"
    }
  },
  "cells": [
    {
      "cell_type": "markdown",
      "metadata": {
        "id": "view-in-github",
        "colab_type": "text"
      },
      "source": [
        "<a href=\"https://colab.research.google.com/github/fmuigai2036/Milk-Distributing-Company/blob/main/DS_Project_Exploratory_Analysis.ipynb\" target=\"_parent\"><img src=\"https://colab.research.google.com/assets/colab-badge.svg\" alt=\"Open In Colab\"/></a>"
      ]
    },
    {
      "cell_type": "markdown",
      "metadata": {
        "id": "webUAI6oPgOF"
      },
      "source": [
        "## Connecting our Database"
      ]
    },
    {
      "cell_type": "code",
      "metadata": {
        "id": "ANcbsDbvPqnT"
      },
      "source": [
        "#We first load an sql extension. \n",
        "# \n",
        "# This extension will allow us to run SQL code in our Notebook.\n",
        "# ---\n",
        "#\n",
        "%load_ext sql"
      ],
      "execution_count": null,
      "outputs": []
    },
    {
      "cell_type": "code",
      "metadata": {
        "colab": {
          "base_uri": "https://localhost:8080/",
          "height": 35
        },
        "id": "lu3oTNpbP11y",
        "outputId": "92acf8c7-764e-44f4-aba0-0e98e60b374f"
      },
      "source": [
        "# We will then connect to an in memory SQLite database within colaboratory. \n",
        "# Something to note is that this in memory dataset will be deleted as \n",
        "# soon the dataset connection is lost, meaning when our connection to \n",
        "# the servers is disconnected then our database will cease to exist.\n",
        "# ---\n",
        "#  \n",
        "%sql sqlite://"
      ],
      "execution_count": null,
      "outputs": [
        {
          "output_type": "execute_result",
          "data": {
            "application/vnd.google.colaboratory.intrinsic+json": {
              "type": "string"
            },
            "text/plain": [
              "'Connected: @None'"
            ]
          },
          "metadata": {},
          "execution_count": 2
        }
      ]
    },
    {
      "cell_type": "markdown",
      "metadata": {
        "id": "VODrXU0TP-r8"
      },
      "source": [
        "## Loading our Dataset"
      ]
    },
    {
      "cell_type": "code",
      "metadata": {
        "id": "sOsZdKK3QGCD"
      },
      "source": [
        "# To read our excel file from an external source into our colaboratory environment, \n",
        "# we will use the pandas library for data maninupation. \n",
        "#---\n",
        "#\n",
        "import pandas as pd"
      ],
      "execution_count": null,
      "outputs": []
    },
    {
      "cell_type": "code",
      "metadata": {
        "colab": {
          "base_uri": "https://localhost:8080/",
          "height": 230
        },
        "id": "lnYkUN_BQU1y",
        "outputId": "75d2130a-ee98-45bf-dbe8-3e7610f03bc3"
      },
      "source": [
        "# We load our first dataset from a excel file, \n",
        "# we then store the dataset in our in memory sqlite database.\n",
        "# We first read our dataset from its source and store it in a dataframe called milk.\n",
        "# From there we perform our analysis with sql.\n",
        "# ---\n",
        "#\n",
        "milk = pd.read_excel('/content/Excelsample.xlsx') \n",
        "milk.head()\n",
        "\n",
        "# Then store it in an SQL table of our in memory sqlite database \n",
        "# --- \n",
        "# \n",
        "\n",
        "# We then delete the table if it exists in our database\n",
        "# ---\n",
        "#\n",
        "%sql DROP TABLE if EXISTS milk;\n",
        "\n",
        "# And finally store our table in table name cities within our dataset.\n",
        "# The persist command will create a table in the database to which we are connected, \n",
        "# the table name will be the same as dataframe variable.\n",
        "# ---\n",
        "#\n",
        "%sql PERSIST milk;\n",
        "\n",
        "# We can then check for the first five records.\n",
        "# ---\n",
        "#\n",
        "%sql SELECT * FROM milk LIMIT 5;"
      ],
      "execution_count": null,
      "outputs": [
        {
          "output_type": "stream",
          "name": "stdout",
          "text": [
            " * sqlite://\n",
            "Done.\n",
            " * sqlite://\n",
            " * sqlite://\n",
            "Done.\n"
          ]
        },
        {
          "output_type": "execute_result",
          "data": {
            "text/html": [
              "<table>\n",
              "    <thead>\n",
              "        <tr>\n",
              "            <th>index</th>\n",
              "            <th>Delivery Date</th>\n",
              "            <th>Depot Name</th>\n",
              "            <th>Route Name</th>\n",
              "            <th>Weight</th>\n",
              "            <th>Sales_Amount</th>\n",
              "        </tr>\n",
              "    </thead>\n",
              "    <tbody>\n",
              "        <tr>\n",
              "            <td>0</td>\n",
              "            <td>2019-01-01 00:00:00.000000</td>\n",
              "            <td>Depot 1</td>\n",
              "            <td>Route 1</td>\n",
              "            <td>2639.94</td>\n",
              "            <td>248751.0</td>\n",
              "        </tr>\n",
              "        <tr>\n",
              "            <td>1</td>\n",
              "            <td>2019-01-01 00:00:00.000000</td>\n",
              "            <td>Depot 1</td>\n",
              "            <td>Route 2</td>\n",
              "            <td>3389.89</td>\n",
              "            <td>259271.0</td>\n",
              "        </tr>\n",
              "        <tr>\n",
              "            <td>2</td>\n",
              "            <td>2019-01-01 00:00:00.000000</td>\n",
              "            <td>Depot 1</td>\n",
              "            <td>Route 3</td>\n",
              "            <td>2160.94</td>\n",
              "            <td>198180.0</td>\n",
              "        </tr>\n",
              "        <tr>\n",
              "            <td>3</td>\n",
              "            <td>2019-01-01 00:00:00.000000</td>\n",
              "            <td>Depot 1</td>\n",
              "            <td>Route 4</td>\n",
              "            <td>3097.03</td>\n",
              "            <td>283703.0</td>\n",
              "        </tr>\n",
              "        <tr>\n",
              "            <td>4</td>\n",
              "            <td>2019-01-01 00:00:00.000000</td>\n",
              "            <td>Depot 1</td>\n",
              "            <td>Route 5</td>\n",
              "            <td>2438.93999999999</td>\n",
              "            <td>220983.0</td>\n",
              "        </tr>\n",
              "    </tbody>\n",
              "</table>"
            ],
            "text/plain": [
              "[(0, '2019-01-01 00:00:00.000000', 'Depot 1', 'Route 1', 2639.94, 248751.0),\n",
              " (1, '2019-01-01 00:00:00.000000', 'Depot 1', 'Route 2', 3389.89, 259271.0),\n",
              " (2, '2019-01-01 00:00:00.000000', 'Depot 1', 'Route 3', 2160.94, 198180.0),\n",
              " (3, '2019-01-01 00:00:00.000000', 'Depot 1', 'Route 4', 3097.03, 283703.0),\n",
              " (4, '2019-01-01 00:00:00.000000', 'Depot 1', 'Route 5', 2438.93999999999, 220983.0)]"
            ]
          },
          "metadata": {},
          "execution_count": 4
        }
      ]
    },
    {
      "cell_type": "markdown",
      "metadata": {
        "id": "FlWdp2APRJhK"
      },
      "source": [
        "# Total Cost per Depot"
      ]
    },
    {
      "cell_type": "code",
      "metadata": {
        "colab": {
          "base_uri": "https://localhost:8080/",
          "height": 423
        },
        "id": "5X_PpvWBRQXK",
        "outputId": "703011e5-8be4-4ab7-c283-c953a3751ac7"
      },
      "source": [
        "# Getting the total cost of sales per depot\n",
        "%%sql\n",
        "select ([Depot Name]), sum([Sales_Amount]) as Total_Sales\n",
        "from milk\n",
        "group by ([Depot Name]) "
      ],
      "execution_count": null,
      "outputs": [
        {
          "output_type": "stream",
          "name": "stdout",
          "text": [
            " * sqlite://\n",
            "Done.\n"
          ]
        },
        {
          "output_type": "execute_result",
          "data": {
            "text/html": [
              "<table>\n",
              "    <thead>\n",
              "        <tr>\n",
              "            <th>Depot Name</th>\n",
              "            <th>Total_Sales</th>\n",
              "        </tr>\n",
              "    </thead>\n",
              "    <tbody>\n",
              "        <tr>\n",
              "            <td>Depot 1</td>\n",
              "            <td>47279500.0</td>\n",
              "        </tr>\n",
              "        <tr>\n",
              "            <td>Depot 10</td>\n",
              "            <td>23459532.0</td>\n",
              "        </tr>\n",
              "        <tr>\n",
              "            <td>Depot 11</td>\n",
              "            <td>60867956.1</td>\n",
              "        </tr>\n",
              "        <tr>\n",
              "            <td>Depot 12</td>\n",
              "            <td>42461208.0</td>\n",
              "        </tr>\n",
              "        <tr>\n",
              "            <td>Depot 13</td>\n",
              "            <td>61596712.0</td>\n",
              "        </tr>\n",
              "        <tr>\n",
              "            <td>Depot 14</td>\n",
              "            <td>6300.0</td>\n",
              "        </tr>\n",
              "        <tr>\n",
              "            <td>Depot 15</td>\n",
              "            <td>65083975.5</td>\n",
              "        </tr>\n",
              "        <tr>\n",
              "            <td>Depot 16</td>\n",
              "            <td>70976669.0</td>\n",
              "        </tr>\n",
              "        <tr>\n",
              "            <td>Depot 17</td>\n",
              "            <td>33320397.0</td>\n",
              "        </tr>\n",
              "        <tr>\n",
              "            <td>Depot 2</td>\n",
              "            <td>43577101.0</td>\n",
              "        </tr>\n",
              "        <tr>\n",
              "            <td>Depot 3</td>\n",
              "            <td>35507111.8</td>\n",
              "        </tr>\n",
              "        <tr>\n",
              "            <td>Depot 4</td>\n",
              "            <td>62571971.0</td>\n",
              "        </tr>\n",
              "        <tr>\n",
              "            <td>Depot 5</td>\n",
              "            <td>61692907.0</td>\n",
              "        </tr>\n",
              "        <tr>\n",
              "            <td>Depot 6</td>\n",
              "            <td>6599871.0</td>\n",
              "        </tr>\n",
              "        <tr>\n",
              "            <td>Depot 7</td>\n",
              "            <td>47136206.6</td>\n",
              "        </tr>\n",
              "        <tr>\n",
              "            <td>Depot 8</td>\n",
              "            <td>78183727.0</td>\n",
              "        </tr>\n",
              "        <tr>\n",
              "            <td>Depot 9</td>\n",
              "            <td>37879053.0</td>\n",
              "        </tr>\n",
              "    </tbody>\n",
              "</table>"
            ],
            "text/plain": [
              "[('Depot 1', 47279500.0),\n",
              " ('Depot 10', 23459532.0),\n",
              " ('Depot 11', 60867956.1),\n",
              " ('Depot 12', 42461208.0),\n",
              " ('Depot 13', 61596712.0),\n",
              " ('Depot 14', 6300.0),\n",
              " ('Depot 15', 65083975.5),\n",
              " ('Depot 16', 70976669.0),\n",
              " ('Depot 17', 33320397.0),\n",
              " ('Depot 2', 43577101.0),\n",
              " ('Depot 3', 35507111.8),\n",
              " ('Depot 4', 62571971.0),\n",
              " ('Depot 5', 61692907.0),\n",
              " ('Depot 6', 6599871.0),\n",
              " ('Depot 7', 47136206.6),\n",
              " ('Depot 8', 78183727.0),\n",
              " ('Depot 9', 37879053.0)]"
            ]
          },
          "metadata": {},
          "execution_count": 17
        }
      ]
    },
    {
      "cell_type": "markdown",
      "metadata": {
        "id": "FpFDmgbPU6f2"
      },
      "source": [
        "# Highest Weight"
      ]
    },
    {
      "cell_type": "code",
      "metadata": {
        "colab": {
          "base_uri": "https://localhost:8080/",
          "height": 423
        },
        "id": "8XLHpHXuVCEP",
        "outputId": "94dd7071-c60d-4ac8-ec08-f6b9a3c5a693"
      },
      "source": [
        "#Determining the total weight per depot\n",
        "#\n",
        "%%sql\n",
        "select ([Depot Name]) as Depot, round(sum(Weight),2) as Weight\n",
        "from milk\n",
        "group by ([Depot Name]) "
      ],
      "execution_count": null,
      "outputs": [
        {
          "output_type": "stream",
          "name": "stdout",
          "text": [
            " * sqlite://\n",
            "Done.\n"
          ]
        },
        {
          "output_type": "execute_result",
          "data": {
            "text/html": [
              "<table>\n",
              "    <thead>\n",
              "        <tr>\n",
              "            <th>Depot</th>\n",
              "            <th>Weight</th>\n",
              "        </tr>\n",
              "    </thead>\n",
              "    <tbody>\n",
              "        <tr>\n",
              "            <td>Depot 1</td>\n",
              "            <td>521127.58</td>\n",
              "        </tr>\n",
              "        <tr>\n",
              "            <td>Depot 10</td>\n",
              "            <td>289527.46</td>\n",
              "        </tr>\n",
              "        <tr>\n",
              "            <td>Depot 11</td>\n",
              "            <td>712084.61</td>\n",
              "        </tr>\n",
              "        <tr>\n",
              "            <td>Depot 12</td>\n",
              "            <td>461319.29</td>\n",
              "        </tr>\n",
              "        <tr>\n",
              "            <td>Depot 13</td>\n",
              "            <td>685653.25</td>\n",
              "        </tr>\n",
              "        <tr>\n",
              "            <td>Depot 14</td>\n",
              "            <td>230.0</td>\n",
              "        </tr>\n",
              "        <tr>\n",
              "            <td>Depot 15</td>\n",
              "            <td>635340.62</td>\n",
              "        </tr>\n",
              "        <tr>\n",
              "            <td>Depot 16</td>\n",
              "            <td>748571.98</td>\n",
              "        </tr>\n",
              "        <tr>\n",
              "            <td>Depot 17</td>\n",
              "            <td>373242.56</td>\n",
              "        </tr>\n",
              "        <tr>\n",
              "            <td>Depot 2</td>\n",
              "            <td>494501.19</td>\n",
              "        </tr>\n",
              "        <tr>\n",
              "            <td>Depot 3</td>\n",
              "            <td>508700.35</td>\n",
              "        </tr>\n",
              "        <tr>\n",
              "            <td>Depot 4</td>\n",
              "            <td>685026.59</td>\n",
              "        </tr>\n",
              "        <tr>\n",
              "            <td>Depot 5</td>\n",
              "            <td>759848.21</td>\n",
              "        </tr>\n",
              "        <tr>\n",
              "            <td>Depot 6</td>\n",
              "            <td>100906.49</td>\n",
              "        </tr>\n",
              "        <tr>\n",
              "            <td>Depot 7</td>\n",
              "            <td>670755.68</td>\n",
              "        </tr>\n",
              "        <tr>\n",
              "            <td>Depot 8</td>\n",
              "            <td>779541.92</td>\n",
              "        </tr>\n",
              "        <tr>\n",
              "            <td>Depot 9</td>\n",
              "            <td>495458.31</td>\n",
              "        </tr>\n",
              "    </tbody>\n",
              "</table>"
            ],
            "text/plain": [
              "[('Depot 1', 521127.58),\n",
              " ('Depot 10', 289527.46),\n",
              " ('Depot 11', 712084.61),\n",
              " ('Depot 12', 461319.29),\n",
              " ('Depot 13', 685653.25),\n",
              " ('Depot 14', 230.0),\n",
              " ('Depot 15', 635340.62),\n",
              " ('Depot 16', 748571.98),\n",
              " ('Depot 17', 373242.56),\n",
              " ('Depot 2', 494501.19),\n",
              " ('Depot 3', 508700.35),\n",
              " ('Depot 4', 685026.59),\n",
              " ('Depot 5', 759848.21),\n",
              " ('Depot 6', 100906.49),\n",
              " ('Depot 7', 670755.68),\n",
              " ('Depot 8', 779541.92),\n",
              " ('Depot 9', 495458.31)]"
            ]
          },
          "metadata": {},
          "execution_count": 22
        }
      ]
    },
    {
      "cell_type": "code",
      "metadata": {
        "colab": {
          "base_uri": "https://localhost:8080/",
          "height": 423
        },
        "id": "98aV0GW6WJ--",
        "outputId": "7283a293-473a-41ce-ce33-294763979819"
      },
      "source": [
        "#Determining the highest weight per depot\n",
        "#\n",
        "# Here we show \n",
        "%%sql\n",
        "select ([Depot Name]) as Depot, round(max(Weight),2) as Weight\n",
        "from milk\n",
        "group by ([Depot Name]) \n",
        "order by 'Weight' "
      ],
      "execution_count": null,
      "outputs": [
        {
          "output_type": "stream",
          "name": "stdout",
          "text": [
            " * sqlite://\n",
            "Done.\n"
          ]
        },
        {
          "output_type": "execute_result",
          "data": {
            "text/html": [
              "<table>\n",
              "    <thead>\n",
              "        <tr>\n",
              "            <th>Depot</th>\n",
              "            <th>Weight</th>\n",
              "        </tr>\n",
              "    </thead>\n",
              "    <tbody>\n",
              "        <tr>\n",
              "            <td>Depot 1</td>\n",
              "            <td>5391.0</td>\n",
              "        </tr>\n",
              "        <tr>\n",
              "            <td>Depot 10</td>\n",
              "            <td>4313.33</td>\n",
              "        </tr>\n",
              "        <tr>\n",
              "            <td>Depot 11</td>\n",
              "            <td>6477.88</td>\n",
              "        </tr>\n",
              "        <tr>\n",
              "            <td>Depot 12</td>\n",
              "            <td>3976.4</td>\n",
              "        </tr>\n",
              "        <tr>\n",
              "            <td>Depot 13</td>\n",
              "            <td>8653.79</td>\n",
              "        </tr>\n",
              "        <tr>\n",
              "            <td>Depot 14</td>\n",
              "            <td>230.0</td>\n",
              "        </tr>\n",
              "        <tr>\n",
              "            <td>Depot 15</td>\n",
              "            <td>5080.07</td>\n",
              "        </tr>\n",
              "        <tr>\n",
              "            <td>Depot 16</td>\n",
              "            <td>5192.6</td>\n",
              "        </tr>\n",
              "        <tr>\n",
              "            <td>Depot 17</td>\n",
              "            <td>3304.06</td>\n",
              "        </tr>\n",
              "        <tr>\n",
              "            <td>Depot 2</td>\n",
              "            <td>4755.16</td>\n",
              "        </tr>\n",
              "        <tr>\n",
              "            <td>Depot 3</td>\n",
              "            <td>4831.83</td>\n",
              "        </tr>\n",
              "        <tr>\n",
              "            <td>Depot 4</td>\n",
              "            <td>4542.99</td>\n",
              "        </tr>\n",
              "        <tr>\n",
              "            <td>Depot 5</td>\n",
              "            <td>5891.77</td>\n",
              "        </tr>\n",
              "        <tr>\n",
              "            <td>Depot 6</td>\n",
              "            <td>14082.52</td>\n",
              "        </tr>\n",
              "        <tr>\n",
              "            <td>Depot 7</td>\n",
              "            <td>4342.55</td>\n",
              "        </tr>\n",
              "        <tr>\n",
              "            <td>Depot 8</td>\n",
              "            <td>6893.52</td>\n",
              "        </tr>\n",
              "        <tr>\n",
              "            <td>Depot 9</td>\n",
              "            <td>4507.16</td>\n",
              "        </tr>\n",
              "    </tbody>\n",
              "</table>"
            ],
            "text/plain": [
              "[('Depot 1', 5391.0),\n",
              " ('Depot 10', 4313.33),\n",
              " ('Depot 11', 6477.88),\n",
              " ('Depot 12', 3976.4),\n",
              " ('Depot 13', 8653.79),\n",
              " ('Depot 14', 230.0),\n",
              " ('Depot 15', 5080.07),\n",
              " ('Depot 16', 5192.6),\n",
              " ('Depot 17', 3304.06),\n",
              " ('Depot 2', 4755.16),\n",
              " ('Depot 3', 4831.83),\n",
              " ('Depot 4', 4542.99),\n",
              " ('Depot 5', 5891.77),\n",
              " ('Depot 6', 14082.52),\n",
              " ('Depot 7', 4342.55),\n",
              " ('Depot 8', 6893.52),\n",
              " ('Depot 9', 4507.16)]"
            ]
          },
          "metadata": {},
          "execution_count": 34
        }
      ]
    },
    {
      "cell_type": "code",
      "metadata": {
        "colab": {
          "base_uri": "https://localhost:8080/",
          "height": 95
        },
        "id": "hutt0QxOXnLY",
        "outputId": "4c4feb51-fa84-4093-f2bb-49e060de7fe0"
      },
      "source": [
        "#Determining the depot with the highest weight\n",
        "#\n",
        "%%sql\n",
        "select ([Depot Name]) as Depot, round(max(Weight),2) as Weight\n",
        "from milk\n",
        "group by 'Weight' \n"
      ],
      "execution_count": null,
      "outputs": [
        {
          "output_type": "stream",
          "name": "stdout",
          "text": [
            " * sqlite://\n",
            "Done.\n"
          ]
        },
        {
          "output_type": "execute_result",
          "data": {
            "text/html": [
              "<table>\n",
              "    <thead>\n",
              "        <tr>\n",
              "            <th>Depot</th>\n",
              "            <th>Weight</th>\n",
              "        </tr>\n",
              "    </thead>\n",
              "    <tbody>\n",
              "        <tr>\n",
              "            <td>Depot 6</td>\n",
              "            <td>14082.52</td>\n",
              "        </tr>\n",
              "    </tbody>\n",
              "</table>"
            ],
            "text/plain": [
              "[('Depot 6', 14082.52)]"
            ]
          },
          "metadata": {},
          "execution_count": 31
        }
      ]
    },
    {
      "cell_type": "markdown",
      "metadata": {
        "id": "GbnPrcN8YllT"
      },
      "source": [
        "# Lowest Sales"
      ]
    },
    {
      "cell_type": "code",
      "metadata": {
        "colab": {
          "base_uri": "https://localhost:8080/",
          "height": 423
        },
        "id": "Wvm0ZMf7YotI",
        "outputId": "3d884a95-437d-4c2d-cc2d-47a849c2df3d"
      },
      "source": [
        "#Determining the depot with the lowest sales\n",
        "#\n",
        "#\n",
        "%%sql\n",
        "select ([Depot Name]) as Depot, round(min(Sales_Amount),2) as Total_Sales\n",
        "from milk\n",
        "group by ([Depot Name]) \n"
      ],
      "execution_count": null,
      "outputs": [
        {
          "output_type": "stream",
          "name": "stdout",
          "text": [
            " * sqlite://\n",
            "Done.\n"
          ]
        },
        {
          "output_type": "execute_result",
          "data": {
            "text/html": [
              "<table>\n",
              "    <thead>\n",
              "        <tr>\n",
              "            <th>Depot</th>\n",
              "            <th>Total_Sales</th>\n",
              "        </tr>\n",
              "    </thead>\n",
              "    <tbody>\n",
              "        <tr>\n",
              "            <td>Depot 1</td>\n",
              "            <td>68444.0</td>\n",
              "        </tr>\n",
              "        <tr>\n",
              "            <td>Depot 10</td>\n",
              "            <td>190.0</td>\n",
              "        </tr>\n",
              "        <tr>\n",
              "            <td>Depot 11</td>\n",
              "            <td>25370.0</td>\n",
              "        </tr>\n",
              "        <tr>\n",
              "            <td>Depot 12</td>\n",
              "            <td>91881.0</td>\n",
              "        </tr>\n",
              "        <tr>\n",
              "            <td>Depot 13</td>\n",
              "            <td>116972.0</td>\n",
              "        </tr>\n",
              "        <tr>\n",
              "            <td>Depot 14</td>\n",
              "            <td>6300.0</td>\n",
              "        </tr>\n",
              "        <tr>\n",
              "            <td>Depot 15</td>\n",
              "            <td>93680.0</td>\n",
              "        </tr>\n",
              "        <tr>\n",
              "            <td>Depot 16</td>\n",
              "            <td>102192.0</td>\n",
              "        </tr>\n",
              "        <tr>\n",
              "            <td>Depot 17</td>\n",
              "            <td>92556.0</td>\n",
              "        </tr>\n",
              "        <tr>\n",
              "            <td>Depot 2</td>\n",
              "            <td>73430.0</td>\n",
              "        </tr>\n",
              "        <tr>\n",
              "            <td>Depot 3</td>\n",
              "            <td>35.0</td>\n",
              "        </tr>\n",
              "        <tr>\n",
              "            <td>Depot 4</td>\n",
              "            <td>91640.0</td>\n",
              "        </tr>\n",
              "        <tr>\n",
              "            <td>Depot 5</td>\n",
              "            <td>25372.0</td>\n",
              "        </tr>\n",
              "        <tr>\n",
              "            <td>Depot 6</td>\n",
              "            <td>47380.0</td>\n",
              "        </tr>\n",
              "        <tr>\n",
              "            <td>Depot 7</td>\n",
              "            <td>210.0</td>\n",
              "        </tr>\n",
              "        <tr>\n",
              "            <td>Depot 8</td>\n",
              "            <td>132403.0</td>\n",
              "        </tr>\n",
              "        <tr>\n",
              "            <td>Depot 9</td>\n",
              "            <td>64667.0</td>\n",
              "        </tr>\n",
              "    </tbody>\n",
              "</table>"
            ],
            "text/plain": [
              "[('Depot 1', 68444.0),\n",
              " ('Depot 10', 190.0),\n",
              " ('Depot 11', 25370.0),\n",
              " ('Depot 12', 91881.0),\n",
              " ('Depot 13', 116972.0),\n",
              " ('Depot 14', 6300.0),\n",
              " ('Depot 15', 93680.0),\n",
              " ('Depot 16', 102192.0),\n",
              " ('Depot 17', 92556.0),\n",
              " ('Depot 2', 73430.0),\n",
              " ('Depot 3', 35.0),\n",
              " ('Depot 4', 91640.0),\n",
              " ('Depot 5', 25372.0),\n",
              " ('Depot 6', 47380.0),\n",
              " ('Depot 7', 210.0),\n",
              " ('Depot 8', 132403.0),\n",
              " ('Depot 9', 64667.0)]"
            ]
          },
          "metadata": {},
          "execution_count": 35
        }
      ]
    },
    {
      "cell_type": "code",
      "metadata": {
        "colab": {
          "base_uri": "https://localhost:8080/",
          "height": 95
        },
        "id": "GkvI64qPZldI",
        "outputId": "670daf8c-d0a8-4204-9d8c-e3947c5bf3a1"
      },
      "source": [
        "#Here we are finding out the depot with the lowest sales\n",
        "%%sql\n",
        "select ([Depot Name]) as Depot, round(min(Sales_Amount),2) as Total_Sales\n",
        "from milk\n",
        "group by 'Depot Name' "
      ],
      "execution_count": null,
      "outputs": [
        {
          "output_type": "stream",
          "name": "stdout",
          "text": [
            " * sqlite://\n",
            "Done.\n"
          ]
        },
        {
          "output_type": "execute_result",
          "data": {
            "text/html": [
              "<table>\n",
              "    <thead>\n",
              "        <tr>\n",
              "            <th>Depot</th>\n",
              "            <th>Total_Sales</th>\n",
              "        </tr>\n",
              "    </thead>\n",
              "    <tbody>\n",
              "        <tr>\n",
              "            <td>Depot 3</td>\n",
              "            <td>35.0</td>\n",
              "        </tr>\n",
              "    </tbody>\n",
              "</table>"
            ],
            "text/plain": [
              "[('Depot 3', 35.0)]"
            ]
          },
          "metadata": {},
          "execution_count": 36
        }
      ]
    },
    {
      "cell_type": "markdown",
      "metadata": {
        "id": "5AoQEoz8aAG0"
      },
      "source": [
        "# Routes in Depot 3"
      ]
    },
    {
      "cell_type": "code",
      "metadata": {
        "colab": {
          "base_uri": "https://localhost:8080/",
          "height": 95
        },
        "id": "ATTRi2jbaGGQ",
        "outputId": "e9ed3d52-c350-43e3-9dd4-0f9cf3e2e4ef"
      },
      "source": [
        "#Determining the number of routes in Depot 3\n",
        "#\n",
        "%%sql\n",
        "select ([Depot Name]), count([Route Name]) as Route3\n",
        "from milk\n",
        "where ([Depot Name]) = 'Depot 3'\n"
      ],
      "execution_count": null,
      "outputs": [
        {
          "output_type": "stream",
          "name": "stdout",
          "text": [
            " * sqlite://\n",
            "Done.\n"
          ]
        },
        {
          "output_type": "execute_result",
          "data": {
            "text/html": [
              "<table>\n",
              "    <thead>\n",
              "        <tr>\n",
              "            <th>Depot Name</th>\n",
              "            <th>Route3</th>\n",
              "        </tr>\n",
              "    </thead>\n",
              "    <tbody>\n",
              "        <tr>\n",
              "            <td>Depot 3</td>\n",
              "            <td>305</td>\n",
              "        </tr>\n",
              "    </tbody>\n",
              "</table>"
            ],
            "text/plain": [
              "[('Depot 3', 305)]"
            ]
          },
          "metadata": {},
          "execution_count": 47
        }
      ]
    }
  ]
}