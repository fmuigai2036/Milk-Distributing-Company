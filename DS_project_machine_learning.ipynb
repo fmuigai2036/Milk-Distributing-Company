{
  "nbformat": 4,
  "nbformat_minor": 0,
  "metadata": {
    "colab": {
      "provenance": [],
      "toc_visible": true,
      "authorship_tag": "ABX9TyN7IPIR1AxYhPALgX8yZv+t",
      "include_colab_link": true
    },
    "kernelspec": {
      "name": "python3",
      "display_name": "Python 3"
    },
    "language_info": {
      "name": "python"
    }
  },
  "cells": [
    {
      "cell_type": "markdown",
      "metadata": {
        "id": "view-in-github",
        "colab_type": "text"
      },
      "source": [
        "<a href=\"https://colab.research.google.com/github/fmuigai2036/Milk-Distributing-Company/blob/main/DS_project_machine_learning.ipynb\" target=\"_parent\"><img src=\"https://colab.research.google.com/assets/colab-badge.svg\" alt=\"Open In Colab\"/></a>"
      ]
    },
    {
      "cell_type": "markdown",
      "metadata": {
        "id": "1LNFX5X_nqk9"
      },
      "source": [
        "##Pre-requisites"
      ]
    },
    {
      "cell_type": "code",
      "metadata": {
        "id": "wnQwNSRZn3RW"
      },
      "source": [
        "# We first import the required datasets\n",
        "\n",
        "# Importing pandas for data manipulation\n",
        "# \n",
        "import pandas as pd \n",
        "\n",
        "# Importing numpy for mathematical functions\n",
        "import numpy as np\n",
        "\n",
        "# Importing matplotlib for creating visualisations\n",
        "# \n",
        "import matplotlib.pyplot as plt\n",
        "%matplotlib inline\n",
        "\n",
        "#Import seaborn for rich data visualisations.\n",
        "import seaborn as sns"
      ],
      "execution_count": null,
      "outputs": []
    },
    {
      "cell_type": "code",
      "metadata": {
        "colab": {
          "base_uri": "https://localhost:8080/",
          "height": 206
        },
        "id": "h3vsCj44xgCf",
        "outputId": "bb416e91-05a7-42f0-b85c-a290bd16a74a"
      },
      "source": [
        "# We then load our dataset which is in xls format\n",
        "\n",
        "milk_df = pd.read_excel('/content/Excelsample.xlsx')\n",
        "milk_df.head()\n"
      ],
      "execution_count": null,
      "outputs": [
        {
          "output_type": "execute_result",
          "data": {
            "text/html": [
              "<div>\n",
              "<style scoped>\n",
              "    .dataframe tbody tr th:only-of-type {\n",
              "        vertical-align: middle;\n",
              "    }\n",
              "\n",
              "    .dataframe tbody tr th {\n",
              "        vertical-align: top;\n",
              "    }\n",
              "\n",
              "    .dataframe thead th {\n",
              "        text-align: right;\n",
              "    }\n",
              "</style>\n",
              "<table border=\"1\" class=\"dataframe\">\n",
              "  <thead>\n",
              "    <tr style=\"text-align: right;\">\n",
              "      <th></th>\n",
              "      <th>Delivery Date</th>\n",
              "      <th>Depot Name</th>\n",
              "      <th>Route Name</th>\n",
              "      <th>Weight</th>\n",
              "      <th>Sales_Amount</th>\n",
              "    </tr>\n",
              "  </thead>\n",
              "  <tbody>\n",
              "    <tr>\n",
              "      <th>0</th>\n",
              "      <td>2019-01-01</td>\n",
              "      <td>Depot 1</td>\n",
              "      <td>Route 1</td>\n",
              "      <td>2639.94</td>\n",
              "      <td>248751.0</td>\n",
              "    </tr>\n",
              "    <tr>\n",
              "      <th>1</th>\n",
              "      <td>2019-01-01</td>\n",
              "      <td>Depot 1</td>\n",
              "      <td>Route 2</td>\n",
              "      <td>3389.89</td>\n",
              "      <td>259271.0</td>\n",
              "    </tr>\n",
              "    <tr>\n",
              "      <th>2</th>\n",
              "      <td>2019-01-01</td>\n",
              "      <td>Depot 1</td>\n",
              "      <td>Route 3</td>\n",
              "      <td>2160.94</td>\n",
              "      <td>198180.0</td>\n",
              "    </tr>\n",
              "    <tr>\n",
              "      <th>3</th>\n",
              "      <td>2019-01-01</td>\n",
              "      <td>Depot 1</td>\n",
              "      <td>Route 4</td>\n",
              "      <td>3097.03</td>\n",
              "      <td>283703.0</td>\n",
              "    </tr>\n",
              "    <tr>\n",
              "      <th>4</th>\n",
              "      <td>2019-01-01</td>\n",
              "      <td>Depot 1</td>\n",
              "      <td>Route 5</td>\n",
              "      <td>2438.94</td>\n",
              "      <td>220983.0</td>\n",
              "    </tr>\n",
              "  </tbody>\n",
              "</table>\n",
              "</div>"
            ],
            "text/plain": [
              "  Delivery Date Depot Name Route Name   Weight  Sales_Amount\n",
              "0    2019-01-01    Depot 1    Route 1  2639.94      248751.0\n",
              "1    2019-01-01    Depot 1    Route 2  3389.89      259271.0\n",
              "2    2019-01-01    Depot 1    Route 3  2160.94      198180.0\n",
              "3    2019-01-01    Depot 1    Route 4  3097.03      283703.0\n",
              "4    2019-01-01    Depot 1    Route 5  2438.94      220983.0"
            ]
          },
          "metadata": {},
          "execution_count": 2
        }
      ]
    },
    {
      "cell_type": "markdown",
      "metadata": {
        "id": "f_7Bnw7dJRfw"
      },
      "source": [
        "##Checking datatypes"
      ]
    },
    {
      "cell_type": "code",
      "metadata": {
        "colab": {
          "base_uri": "https://localhost:8080/"
        },
        "id": "5BXSXrb9yGVj",
        "outputId": "36de1f7e-0a73-45ee-c2a2-c9516017b76d"
      },
      "source": [
        "#Checking datatypes\n",
        "\n",
        "milk_df.dtypes"
      ],
      "execution_count": null,
      "outputs": [
        {
          "output_type": "execute_result",
          "data": {
            "text/plain": [
              "Delivery Date    datetime64[ns]\n",
              "Depot Name               object\n",
              "Route Name               object\n",
              "Weight                  float64\n",
              "Sales_Amount            float64\n",
              "dtype: object"
            ]
          },
          "metadata": {},
          "execution_count": 3
        }
      ]
    },
    {
      "cell_type": "code",
      "metadata": {
        "colab": {
          "base_uri": "https://localhost:8080/",
          "height": 460
        },
        "id": "nkf2bFz_zQF4",
        "outputId": "3e0214c1-8239-4472-b878-828a72a3b322"
      },
      "source": [
        "# We will perform encoding,\n",
        "# which will help us transform our categorical values in our \n",
        "# dataset into numerical values. \n",
        "# Lets see what happens when we encode the Route and Depot   variable \n",
        "# to have only numerical values. \n",
        "\n",
        "#milk_df[\"Route Name\"] = np.where(milk_df[\"Route Name\"].str.contains(\"\n",
        "\n",
        "milk_df.head()\n",
        "\n",
        "print(milk_df['Route Name'].nunique())\n",
        "print(milk_df['Depot Name'].nunique())\n",
        "\n",
        "milk_df['Route_Name_num'] = milk_df['Route Name'].astype('category')\n",
        "milk_df\n",
        "\n",
        "#milk_df['Route_Name_num'] = milk_df['Route_Name_num'].apply(lambda x: x.cat.codes)\n",
        "#milk_df['Depot_Name_num'].nunique()\n",
        "\n",
        "milk_df['Route_Name_num'] = pd.Categorical(milk_df['Route_Name_num']).codes\n",
        "milk_df['Depot_Name_num'] = pd.Categorical(milk_df['Depot Name']).codes\n",
        "\n",
        "milk_df"
      ],
      "execution_count": null,
      "outputs": [
        {
          "output_type": "stream",
          "name": "stdout",
          "text": [
            "150\n",
            "17\n"
          ]
        },
        {
          "output_type": "execute_result",
          "data": {
            "text/html": [
              "<div>\n",
              "<style scoped>\n",
              "    .dataframe tbody tr th:only-of-type {\n",
              "        vertical-align: middle;\n",
              "    }\n",
              "\n",
              "    .dataframe tbody tr th {\n",
              "        vertical-align: top;\n",
              "    }\n",
              "\n",
              "    .dataframe thead th {\n",
              "        text-align: right;\n",
              "    }\n",
              "</style>\n",
              "<table border=\"1\" class=\"dataframe\">\n",
              "  <thead>\n",
              "    <tr style=\"text-align: right;\">\n",
              "      <th></th>\n",
              "      <th>Delivery Date</th>\n",
              "      <th>Depot Name</th>\n",
              "      <th>Route Name</th>\n",
              "      <th>Weight</th>\n",
              "      <th>Sales_Amount</th>\n",
              "      <th>Route_Name_num</th>\n",
              "      <th>Depot_Name_num</th>\n",
              "    </tr>\n",
              "  </thead>\n",
              "  <tbody>\n",
              "    <tr>\n",
              "      <th>0</th>\n",
              "      <td>2019-01-01</td>\n",
              "      <td>Depot 1</td>\n",
              "      <td>Route 1</td>\n",
              "      <td>2639.94</td>\n",
              "      <td>248751.0</td>\n",
              "      <td>0</td>\n",
              "      <td>0</td>\n",
              "    </tr>\n",
              "    <tr>\n",
              "      <th>1</th>\n",
              "      <td>2019-01-01</td>\n",
              "      <td>Depot 1</td>\n",
              "      <td>Route 2</td>\n",
              "      <td>3389.89</td>\n",
              "      <td>259271.0</td>\n",
              "      <td>62</td>\n",
              "      <td>0</td>\n",
              "    </tr>\n",
              "    <tr>\n",
              "      <th>2</th>\n",
              "      <td>2019-01-01</td>\n",
              "      <td>Depot 1</td>\n",
              "      <td>Route 3</td>\n",
              "      <td>2160.94</td>\n",
              "      <td>198180.0</td>\n",
              "      <td>73</td>\n",
              "      <td>0</td>\n",
              "    </tr>\n",
              "    <tr>\n",
              "      <th>3</th>\n",
              "      <td>2019-01-01</td>\n",
              "      <td>Depot 1</td>\n",
              "      <td>Route 4</td>\n",
              "      <td>3097.03</td>\n",
              "      <td>283703.0</td>\n",
              "      <td>84</td>\n",
              "      <td>0</td>\n",
              "    </tr>\n",
              "    <tr>\n",
              "      <th>4</th>\n",
              "      <td>2019-01-01</td>\n",
              "      <td>Depot 1</td>\n",
              "      <td>Route 5</td>\n",
              "      <td>2438.94</td>\n",
              "      <td>220983.0</td>\n",
              "      <td>95</td>\n",
              "      <td>0</td>\n",
              "    </tr>\n",
              "    <tr>\n",
              "      <th>...</th>\n",
              "      <td>...</td>\n",
              "      <td>...</td>\n",
              "      <td>...</td>\n",
              "      <td>...</td>\n",
              "      <td>...</td>\n",
              "      <td>...</td>\n",
              "      <td>...</td>\n",
              "    </tr>\n",
              "    <tr>\n",
              "      <th>3767</th>\n",
              "      <td>2019-01-30</td>\n",
              "      <td>Depot 17</td>\n",
              "      <td>Route 149</td>\n",
              "      <td>2003.26</td>\n",
              "      <td>219335.0</td>\n",
              "      <td>55</td>\n",
              "      <td>8</td>\n",
              "    </tr>\n",
              "    <tr>\n",
              "      <th>3768</th>\n",
              "      <td>2019-01-30</td>\n",
              "      <td>Depot 17</td>\n",
              "      <td>Route 146</td>\n",
              "      <td>1481.63</td>\n",
              "      <td>142161.0</td>\n",
              "      <td>52</td>\n",
              "      <td>8</td>\n",
              "    </tr>\n",
              "    <tr>\n",
              "      <th>3769</th>\n",
              "      <td>2019-01-30</td>\n",
              "      <td>Depot 17</td>\n",
              "      <td>Route 145</td>\n",
              "      <td>2559.52</td>\n",
              "      <td>246753.0</td>\n",
              "      <td>51</td>\n",
              "      <td>8</td>\n",
              "    </tr>\n",
              "    <tr>\n",
              "      <th>3770</th>\n",
              "      <td>2019-01-30</td>\n",
              "      <td>Depot 17</td>\n",
              "      <td>Route 144</td>\n",
              "      <td>1772.09</td>\n",
              "      <td>148114.0</td>\n",
              "      <td>50</td>\n",
              "      <td>8</td>\n",
              "    </tr>\n",
              "    <tr>\n",
              "      <th>3771</th>\n",
              "      <td>2019-01-30</td>\n",
              "      <td>Depot 17</td>\n",
              "      <td>Route 150</td>\n",
              "      <td>2058.16</td>\n",
              "      <td>178374.0</td>\n",
              "      <td>57</td>\n",
              "      <td>8</td>\n",
              "    </tr>\n",
              "  </tbody>\n",
              "</table>\n",
              "<p>3772 rows × 7 columns</p>\n",
              "</div>"
            ],
            "text/plain": [
              "     Delivery Date Depot Name  ... Route_Name_num  Depot_Name_num\n",
              "0       2019-01-01    Depot 1  ...              0               0\n",
              "1       2019-01-01    Depot 1  ...             62               0\n",
              "2       2019-01-01    Depot 1  ...             73               0\n",
              "3       2019-01-01    Depot 1  ...             84               0\n",
              "4       2019-01-01    Depot 1  ...             95               0\n",
              "...            ...        ...  ...            ...             ...\n",
              "3767    2019-01-30   Depot 17  ...             55               8\n",
              "3768    2019-01-30   Depot 17  ...             52               8\n",
              "3769    2019-01-30   Depot 17  ...             51               8\n",
              "3770    2019-01-30   Depot 17  ...             50               8\n",
              "3771    2019-01-30   Depot 17  ...             57               8\n",
              "\n",
              "[3772 rows x 7 columns]"
            ]
          },
          "metadata": {},
          "execution_count": 4
        }
      ]
    },
    {
      "cell_type": "markdown",
      "metadata": {
        "id": "CEmiuOun4uJJ"
      },
      "source": [
        "##Checking Correlation Coefficients"
      ]
    },
    {
      "cell_type": "code",
      "metadata": {
        "colab": {
          "base_uri": "https://localhost:8080/",
          "height": 175
        },
        "id": "cGi1yLdf47JX",
        "outputId": "85165377-e8f2-48b5-961c-dc52f2371a4d"
      },
      "source": [
        "#The correlation coefficient is a statistical measure that calculates the strength of the relationship \n",
        "# between the relative movements of two variables. The values range between -1.0 and 1.0. \n",
        "# A correlation of -1.0 shows a perfect negative correlation, while a correlation of 1.0 shows a perfect positive correlation. \n",
        "# A correlation of 0.0 shows no relationship between the movement of the two variables.\n",
        "\n",
        "\n",
        "#First we create a correlation matrix\n",
        "\n",
        "corrMatrix = milk_df.corr()\n",
        "corrMatrix"
      ],
      "execution_count": null,
      "outputs": [
        {
          "output_type": "execute_result",
          "data": {
            "text/html": [
              "<div>\n",
              "<style scoped>\n",
              "    .dataframe tbody tr th:only-of-type {\n",
              "        vertical-align: middle;\n",
              "    }\n",
              "\n",
              "    .dataframe tbody tr th {\n",
              "        vertical-align: top;\n",
              "    }\n",
              "\n",
              "    .dataframe thead th {\n",
              "        text-align: right;\n",
              "    }\n",
              "</style>\n",
              "<table border=\"1\" class=\"dataframe\">\n",
              "  <thead>\n",
              "    <tr style=\"text-align: right;\">\n",
              "      <th></th>\n",
              "      <th>Weight</th>\n",
              "      <th>Sales_Amount</th>\n",
              "      <th>Route_Name_num</th>\n",
              "      <th>Depot_Name_num</th>\n",
              "    </tr>\n",
              "  </thead>\n",
              "  <tbody>\n",
              "    <tr>\n",
              "      <th>Weight</th>\n",
              "      <td>1.000000</td>\n",
              "      <td>0.915629</td>\n",
              "      <td>-0.096827</td>\n",
              "      <td>0.048612</td>\n",
              "    </tr>\n",
              "    <tr>\n",
              "      <th>Sales_Amount</th>\n",
              "      <td>0.915629</td>\n",
              "      <td>1.000000</td>\n",
              "      <td>-0.171838</td>\n",
              "      <td>-0.023060</td>\n",
              "    </tr>\n",
              "    <tr>\n",
              "      <th>Route_Name_num</th>\n",
              "      <td>-0.096827</td>\n",
              "      <td>-0.171838</td>\n",
              "      <td>1.000000</td>\n",
              "      <td>0.371221</td>\n",
              "    </tr>\n",
              "    <tr>\n",
              "      <th>Depot_Name_num</th>\n",
              "      <td>0.048612</td>\n",
              "      <td>-0.023060</td>\n",
              "      <td>0.371221</td>\n",
              "      <td>1.000000</td>\n",
              "    </tr>\n",
              "  </tbody>\n",
              "</table>\n",
              "</div>"
            ],
            "text/plain": [
              "                  Weight  Sales_Amount  Route_Name_num  Depot_Name_num\n",
              "Weight          1.000000      0.915629       -0.096827        0.048612\n",
              "Sales_Amount    0.915629      1.000000       -0.171838       -0.023060\n",
              "Route_Name_num -0.096827     -0.171838        1.000000        0.371221\n",
              "Depot_Name_num  0.048612     -0.023060        0.371221        1.000000"
            ]
          },
          "metadata": {},
          "execution_count": 5
        }
      ]
    },
    {
      "cell_type": "code",
      "metadata": {
        "colab": {
          "base_uri": "https://localhost:8080/",
          "height": 610
        },
        "id": "bUxpqh6f5efx",
        "outputId": "ef18680c-de4d-4d5f-879b-fe85d3c94559"
      },
      "source": [
        "# We then create a heatmap so as to have a visual \n",
        "# of our correlation matrix as shown below\n",
        "# ---\n",
        "\n",
        "# Let's set the size of our visualisation\n",
        "fig, ax = plt.subplots(figsize = (10, 10))\n",
        "\n",
        "# Let's generate a color map to use for our visualisation\n",
        "colormap = sns.diverging_palette(220, 10, as_cmap = True)\n",
        "\n",
        "# Generate heat map, allow annotations and place floats in map\n",
        "sns.heatmap(corrMatrix, cmap = colormap, annot = True, fmt = \".2f\")\n",
        "\n",
        "# Apply xticks\n",
        "plt.xticks(range(len(corrMatrix.columns)), corrMatrix.columns)\n",
        "\n",
        "# Apply yticks\n",
        "plt.yticks(range(len(corrMatrix.columns)), corrMatrix.columns)\n",
        "\n",
        "# show plot\n",
        "plt.show()"
      ],
      "execution_count": null,
      "outputs": [
        {
          "output_type": "display_data",
          "data": {
            "image/png": "[encoded data removed]",
            "text/plain": [
              "<Figure size 720x720 with 2 Axes>"
            ]
          },
          "metadata": {
            "needs_background": "light"
          }
        }
      ]
    },
    {
      "cell_type": "markdown",
      "metadata": {
        "id": "TXQk9H1l8vjf"
      },
      "source": [
        "## Multiple Regression Model"
      ]
    },
    {
      "cell_type": "code",
      "metadata": {
        "colab": {
          "base_uri": "https://localhost:8080/",
          "height": 206
        },
        "id": "Q2yfovkR86lV",
        "outputId": "e7bb9e0e-9d41-4239-ac1c-2637c6daae30"
      },
      "source": [
        "#Loading and previewing our data\n",
        "\n",
        "milk_df =pd.read_excel('/content/Excelsample.xlsx')\n",
        "\n",
        "#Preview first five records\n",
        "\n",
        "milk_df.head()"
      ],
      "execution_count": null,
      "outputs": [
        {
          "output_type": "execute_result",
          "data": {
            "text/html": [
              "<div>\n",
              "<style scoped>\n",
              "    .dataframe tbody tr th:only-of-type {\n",
              "        vertical-align: middle;\n",
              "    }\n",
              "\n",
              "    .dataframe tbody tr th {\n",
              "        vertical-align: top;\n",
              "    }\n",
              "\n",
              "    .dataframe thead th {\n",
              "        text-align: right;\n",
              "    }\n",
              "</style>\n",
              "<table border=\"1\" class=\"dataframe\">\n",
              "  <thead>\n",
              "    <tr style=\"text-align: right;\">\n",
              "      <th></th>\n",
              "      <th>Delivery Date</th>\n",
              "      <th>Depot Name</th>\n",
              "      <th>Route Name</th>\n",
              "      <th>Weight</th>\n",
              "      <th>Sales_Amount</th>\n",
              "    </tr>\n",
              "  </thead>\n",
              "  <tbody>\n",
              "    <tr>\n",
              "      <th>0</th>\n",
              "      <td>2019-01-01</td>\n",
              "      <td>Depot 1</td>\n",
              "      <td>Route 1</td>\n",
              "      <td>2639.94</td>\n",
              "      <td>248751.0</td>\n",
              "    </tr>\n",
              "    <tr>\n",
              "      <th>1</th>\n",
              "      <td>2019-01-01</td>\n",
              "      <td>Depot 1</td>\n",
              "      <td>Route 2</td>\n",
              "      <td>3389.89</td>\n",
              "      <td>259271.0</td>\n",
              "    </tr>\n",
              "    <tr>\n",
              "      <th>2</th>\n",
              "      <td>2019-01-01</td>\n",
              "      <td>Depot 1</td>\n",
              "      <td>Route 3</td>\n",
              "      <td>2160.94</td>\n",
              "      <td>198180.0</td>\n",
              "    </tr>\n",
              "    <tr>\n",
              "      <th>3</th>\n",
              "      <td>2019-01-01</td>\n",
              "      <td>Depot 1</td>\n",
              "      <td>Route 4</td>\n",
              "      <td>3097.03</td>\n",
              "      <td>283703.0</td>\n",
              "    </tr>\n",
              "    <tr>\n",
              "      <th>4</th>\n",
              "      <td>2019-01-01</td>\n",
              "      <td>Depot 1</td>\n",
              "      <td>Route 5</td>\n",
              "      <td>2438.94</td>\n",
              "      <td>220983.0</td>\n",
              "    </tr>\n",
              "  </tbody>\n",
              "</table>\n",
              "</div>"
            ],
            "text/plain": [
              "  Delivery Date Depot Name Route Name   Weight  Sales_Amount\n",
              "0    2019-01-01    Depot 1    Route 1  2639.94      248751.0\n",
              "1    2019-01-01    Depot 1    Route 2  3389.89      259271.0\n",
              "2    2019-01-01    Depot 1    Route 3  2160.94      198180.0\n",
              "3    2019-01-01    Depot 1    Route 4  3097.03      283703.0\n",
              "4    2019-01-01    Depot 1    Route 5  2438.94      220983.0"
            ]
          },
          "metadata": {},
          "execution_count": 7
        }
      ]
    },
    {
      "cell_type": "code",
      "metadata": {
        "colab": {
          "base_uri": "https://localhost:8080/",
          "height": 300
        },
        "id": "6a51U_Ys9ijI",
        "outputId": "2f2d6e41-aed6-4dbb-f2c2-bfe76c702b94"
      },
      "source": [
        "#Previewing statistical summary\n",
        "\n",
        "milk_df.describe()"
      ],
      "execution_count": null,
      "outputs": [
        {
          "output_type": "execute_result",
          "data": {
            "text/html": [
              "<div>\n",
              "<style scoped>\n",
              "    .dataframe tbody tr th:only-of-type {\n",
              "        vertical-align: middle;\n",
              "    }\n",
              "\n",
              "    .dataframe tbody tr th {\n",
              "        vertical-align: top;\n",
              "    }\n",
              "\n",
              "    .dataframe thead th {\n",
              "        text-align: right;\n",
              "    }\n",
              "</style>\n",
              "<table border=\"1\" class=\"dataframe\">\n",
              "  <thead>\n",
              "    <tr style=\"text-align: right;\">\n",
              "      <th></th>\n",
              "      <th>Weight</th>\n",
              "      <th>Sales_Amount</th>\n",
              "    </tr>\n",
              "  </thead>\n",
              "  <tbody>\n",
              "    <tr>\n",
              "      <th>count</th>\n",
              "      <td>3772.000000</td>\n",
              "      <td>3772.000000</td>\n",
              "    </tr>\n",
              "    <tr>\n",
              "      <th>mean</th>\n",
              "      <td>2365.279981</td>\n",
              "      <td>206309.702545</td>\n",
              "    </tr>\n",
              "    <tr>\n",
              "      <th>std</th>\n",
              "      <td>964.729879</td>\n",
              "      <td>94770.025019</td>\n",
              "    </tr>\n",
              "    <tr>\n",
              "      <th>min</th>\n",
              "      <td>1.000000</td>\n",
              "      <td>35.000000</td>\n",
              "    </tr>\n",
              "    <tr>\n",
              "      <th>25%</th>\n",
              "      <td>1750.235000</td>\n",
              "      <td>140687.000000</td>\n",
              "    </tr>\n",
              "    <tr>\n",
              "      <th>50%</th>\n",
              "      <td>2271.340000</td>\n",
              "      <td>196139.500000</td>\n",
              "    </tr>\n",
              "    <tr>\n",
              "      <th>75%</th>\n",
              "      <td>2887.315000</td>\n",
              "      <td>259431.000000</td>\n",
              "    </tr>\n",
              "    <tr>\n",
              "      <th>max</th>\n",
              "      <td>14082.520000</td>\n",
              "      <td>968620.000000</td>\n",
              "    </tr>\n",
              "  </tbody>\n",
              "</table>\n",
              "</div>"
            ],
            "text/plain": [
              "             Weight   Sales_Amount\n",
              "count   3772.000000    3772.000000\n",
              "mean    2365.279981  206309.702545\n",
              "std      964.729879   94770.025019\n",
              "min        1.000000      35.000000\n",
              "25%     1750.235000  140687.000000\n",
              "50%     2271.340000  196139.500000\n",
              "75%     2887.315000  259431.000000\n",
              "max    14082.520000  968620.000000"
            ]
          },
          "metadata": {},
          "execution_count": 8
        }
      ]
    },
    {
      "cell_type": "code",
      "metadata": {
        "colab": {
          "base_uri": "https://localhost:8080/",
          "height": 614
        },
        "id": "WB1x-3jKlgSG",
        "outputId": "1281bd74-3f2a-4386-ead3-400388e05aa1"
      },
      "source": [
        "#We can plot a visualisation of the matrix for better clarity\n",
        "# --- \n",
        "# \n",
        "import seaborn as sns\n",
        "\n",
        "# We define how big we want our visualisation\n",
        "# \n",
        "plt.figure(figsize=(10, 10)) \n",
        "\n",
        "# Creating our visualisation\n",
        "# \n",
        "sns.heatmap(corrMatrix, annot = True)"
      ],
      "execution_count": null,
      "outputs": [
        {
          "output_type": "execute_result",
          "data": {
            "text/plain": [
              "<matplotlib.axes._subplots.AxesSubplot at 0x7fae66f2ba90>"
            ]
          },
          "metadata": {},
          "execution_count": 9
        },
        {
          "output_type": "display_data",
          "data": {
            "image/png": "[encoded data removed]",
            "text/plain": [
              "<Figure size 720x720 with 2 Axes>"
            ]
          },
          "metadata": {
            "needs_background": "light"
          }
        }
      ]
    },
    {
      "cell_type": "code",
      "metadata": {
        "id": "j0E957pk94Og"
      },
      "source": [
        "#We now prepare our dataset so that we can fit our model\n",
        "# ---\n",
        "# We divide our data into attributes and labels. \n",
        "# This time, we use column names for creating an attribute set and label.\n",
        "# ---\n",
        "#X = milk_df.iloc[:, 3].values  \n",
        "#y = milk_df.iloc[:, 3].values  \n",
        "\n",
        "X = milk_df[['Weight']]\n",
        "y = milk_df['Sales_Amount']\n"
      ],
      "execution_count": null,
      "outputs": []
    },
    {
      "cell_type": "code",
      "metadata": {
        "id": "JZe7aCfJ-CqB"
      },
      "source": [
        "# We then Split our datset\n",
        "# ---\n",
        "# We split our dataset into training and test sets. 80% = training set, while 20% = test set\n",
        "# ---\n",
        "#\n",
        "\n",
        "# Firstly, importing our train_test_split function\n",
        "# ---\n",
        "#\n",
        "from sklearn.model_selection import train_test_split\n",
        "\n",
        "# Performing our split\n",
        "# ---\n",
        "# \n",
        "X_train, X_test, y_train, y_test = train_test_split(X, y, test_size=0.2, random_state=0)"
      ],
      "execution_count": null,
      "outputs": []
    },
    {
      "cell_type": "code",
      "metadata": {
        "colab": {
          "base_uri": "https://localhost:8080/"
        },
        "id": "z0-XQM9v-JPP",
        "outputId": "340be752-d9fb-40ed-c6c7-635a9462bf8c"
      },
      "source": [
        "# Training the Algorithm\n",
        "# ---\n",
        "# \n",
        "\n",
        "# Firstly, importing our linear regression function\n",
        "# ---\n",
        "#\n",
        "from sklearn.linear_model import LinearRegression\n",
        "\n",
        "# Training the algorithm\n",
        "# ---\n",
        "# \n",
        "regressor = LinearRegression()\n",
        "regressor.fit(X_train, y_train)"
      ],
      "execution_count": null,
      "outputs": [
        {
          "output_type": "execute_result",
          "data": {
            "text/plain": [
              "LinearRegression(copy_X=True, fit_intercept=True, n_jobs=None, normalize=False)"
            ]
          },
          "metadata": {},
          "execution_count": 12
        }
      ]
    },
    {
      "cell_type": "code",
      "metadata": {
        "id": "9D__TGCanl0w"
      },
      "source": [
        "# Making Predictions\n",
        "# ---\n",
        "# After training our algorithm, we can now make some preditions\n",
        "# ---\n",
        "# We create the y_pred variable, which will contain \n",
        "# all the predicted values for the input values in the X_test series\n",
        "# ---\n",
        "#\n",
        "y_pred = regressor.predict(X_test)"
      ],
      "execution_count": null,
      "outputs": []
    },
    {
      "cell_type": "code",
      "metadata": {
        "colab": {
          "base_uri": "https://localhost:8080/",
          "height": 363
        },
        "id": "9y3HNYKfnpuF",
        "outputId": "1c1a7405-612f-4414-bcd1-8dfd06ca0b36"
      },
      "source": [
        "# We now compare actual output values for X_test with the predicted values\n",
        "# This should also give us a sense of how our model performed during prediction\n",
        "# ---\n",
        "#\n",
        "milk_df = pd.DataFrame({'Actual': y_test, 'Predicted': y_pred})\n",
        "milk_df.sample(10)"
      ],
      "execution_count": null,
      "outputs": [
        {
          "output_type": "execute_result",
          "data": {
            "text/html": [
              "<div>\n",
              "<style scoped>\n",
              "    .dataframe tbody tr th:only-of-type {\n",
              "        vertical-align: middle;\n",
              "    }\n",
              "\n",
              "    .dataframe tbody tr th {\n",
              "        vertical-align: top;\n",
              "    }\n",
              "\n",
              "    .dataframe thead th {\n",
              "        text-align: right;\n",
              "    }\n",
              "</style>\n",
              "<table border=\"1\" class=\"dataframe\">\n",
              "  <thead>\n",
              "    <tr style=\"text-align: right;\">\n",
              "      <th></th>\n",
              "      <th>Actual</th>\n",
              "      <th>Predicted</th>\n",
              "    </tr>\n",
              "  </thead>\n",
              "  <tbody>\n",
              "    <tr>\n",
              "      <th>3289</th>\n",
              "      <td>208745.0</td>\n",
              "      <td>164280.710592</td>\n",
              "    </tr>\n",
              "    <tr>\n",
              "      <th>117</th>\n",
              "      <td>90716.0</td>\n",
              "      <td>91888.923024</td>\n",
              "    </tr>\n",
              "    <tr>\n",
              "      <th>45</th>\n",
              "      <td>255689.0</td>\n",
              "      <td>246859.903132</td>\n",
              "    </tr>\n",
              "    <tr>\n",
              "      <th>891</th>\n",
              "      <td>274675.0</td>\n",
              "      <td>259230.515505</td>\n",
              "    </tr>\n",
              "    <tr>\n",
              "      <th>3605</th>\n",
              "      <td>164893.0</td>\n",
              "      <td>134536.750335</td>\n",
              "    </tr>\n",
              "    <tr>\n",
              "      <th>1646</th>\n",
              "      <td>135832.0</td>\n",
              "      <td>175886.841884</td>\n",
              "    </tr>\n",
              "    <tr>\n",
              "      <th>2275</th>\n",
              "      <td>138586.0</td>\n",
              "      <td>141297.881954</td>\n",
              "    </tr>\n",
              "    <tr>\n",
              "      <th>3650</th>\n",
              "      <td>136479.0</td>\n",
              "      <td>134690.005041</td>\n",
              "    </tr>\n",
              "    <tr>\n",
              "      <th>1069</th>\n",
              "      <td>211094.0</td>\n",
              "      <td>274833.816339</td>\n",
              "    </tr>\n",
              "    <tr>\n",
              "      <th>2277</th>\n",
              "      <td>121550.0</td>\n",
              "      <td>121082.600299</td>\n",
              "    </tr>\n",
              "  </tbody>\n",
              "</table>\n",
              "</div>"
            ],
            "text/plain": [
              "        Actual      Predicted\n",
              "3289  208745.0  164280.710592\n",
              "117    90716.0   91888.923024\n",
              "45    255689.0  246859.903132\n",
              "891   274675.0  259230.515505\n",
              "3605  164893.0  134536.750335\n",
              "1646  135832.0  175886.841884\n",
              "2275  138586.0  141297.881954\n",
              "3650  136479.0  134690.005041\n",
              "1069  211094.0  274833.816339\n",
              "2277  121550.0  121082.600299"
            ]
          },
          "metadata": {},
          "execution_count": 14
        }
      ]
    },
    {
      "cell_type": "code",
      "metadata": {
        "colab": {
          "base_uri": "https://localhost:8080/"
        },
        "id": "lHoWATBKoQ43",
        "outputId": "dc21333d-5511-416e-b25e-44a66906fe7a"
      },
      "source": [
        "# We evaluate our model performance\n",
        "# --- \n",
        "# The final step is to evaluate the performance of algorithm  \n",
        "# Root Mean Squared Error (RMSE). This is the square root of the mean of the squared errors.\n",
        "# ---  \n",
        "#\n",
        "from sklearn import metrics \n",
        "print('Root Mean Squared Error:', np.sqrt(metrics.mean_squared_error(y_test, y_pred)))\n",
        "mn = milk_df['Actual'].mean()\n",
        "ten_per = mn * 10/100\n",
        "print('10%_of_mean:', ten_per)\n"
      ],
      "execution_count": null,
      "outputs": [
        {
          "output_type": "stream",
          "name": "stdout",
          "text": [
            "Root Mean Squared Error: 38249.47829125749\n",
            "10%_of_mean: 20327.222357615898\n"
          ]
        }
      ]
    },
    {
      "cell_type": "code",
      "metadata": {
        "id": "s26gpCZ901qm"
      },
      "source": [
        "# Observation\n",
        "# ---\n",
        "# We can see that the value of root mean squared error is 38249.48, \n",
        "# which is more than 10% of the mean value of the Sales_Amount of 206309.702\n",
        "# This means that our algorithm is inaccurate and thus not ideal for predictions.\n"
      ],
      "execution_count": null,
      "outputs": []
    },
    {
      "cell_type": "markdown",
      "metadata": {
        "id": "1_NcfsrP0xK3"
      },
      "source": []
    }
  ]
}