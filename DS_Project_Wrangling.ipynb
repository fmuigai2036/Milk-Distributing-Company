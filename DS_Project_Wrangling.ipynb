{
  "nbformat": 4,
  "nbformat_minor": 0,
  "metadata": {
    "colab": {
      "provenance": [],
      "toc_visible": true,
      "authorship_tag": "ABX9TyMbOwGnBN2D2mrbLhQIliR2",
      "include_colab_link": true
    },
    "kernelspec": {
      "name": "python3",
      "display_name": "Python 3"
    },
    "language_info": {
      "name": "python"
    }
  },
  "cells": [
    {
      "cell_type": "markdown",
      "metadata": {
        "id": "view-in-github",
        "colab_type": "text"
      },
      "source": [
        "<a href=\"https://colab.research.google.com/github/fmuigai2036/Milk-Distributing-Company/blob/main/DS_Project_Wrangling.ipynb\" target=\"_parent\"><img src=\"https://colab.research.google.com/assets/colab-badge.svg\" alt=\"Open In Colab\"/></a>"
      ]
    },
    {
      "cell_type": "code",
      "metadata": {
        "id": "jVv2A9JVZ-w0"
      },
      "source": [],
      "execution_count": null,
      "outputs": []
    },
    {
      "cell_type": "markdown",
      "metadata": {
        "id": "__wvWrdCiR3E"
      },
      "source": [
        "# Data Wrangling"
      ]
    },
    {
      "cell_type": "markdown",
      "metadata": {
        "id": "5f0X882CiXZM"
      },
      "source": [
        "# Pre-requisites"
      ]
    },
    {
      "cell_type": "code",
      "metadata": {
        "id": "72YXlh2jiuPV"
      },
      "source": [
        "# Pre-requisite 1\n",
        "# ---\n",
        "# Importing pandas library for data manipulation\n",
        "# \n",
        "import pandas as pd"
      ],
      "execution_count": null,
      "outputs": []
    },
    {
      "cell_type": "code",
      "metadata": {
        "id": "NSUNNRhZi7fZ"
      },
      "source": [
        "# Pre-requisite 2\n",
        "# ---\n",
        "# Importing numpy library for scientific computations\n",
        "# ---\n",
        "# \n",
        "# \n",
        "import numpy as np"
      ],
      "execution_count": null,
      "outputs": []
    },
    {
      "cell_type": "code",
      "metadata": {
        "id": "gINwB8FBmarW"
      },
      "source": [
        "#Pre-requisite 3\n",
        "#\n",
        "#Importing seaborn for data visualisation\n",
        "#\n",
        "import seaborn as sns\n",
        "\n"
      ],
      "execution_count": null,
      "outputs": []
    },
    {
      "cell_type": "code",
      "metadata": {
        "id": "XzHJxc_Rpchw"
      },
      "source": [
        "# Importing matplotlib for visualisation\n",
        "# ---\n",
        "# \n",
        "\n",
        "# Matplotlib is a plotting library for the python\n",
        "# ---\n",
        "#\n",
        "import matplotlib.pyplot as plt\n",
        "\n",
        "# The following line will make all graphs that we you draw, \n",
        "# to be within you notebook, no graph will move outside \n",
        "# the notebook space, everything will inline.\n",
        "# ---\n",
        "#\n",
        "% matplotlib inline "
      ],
      "execution_count": null,
      "outputs": []
    },
    {
      "cell_type": "markdown",
      "metadata": {
        "id": "JE4Z9G3HjKPl"
      },
      "source": [
        "## Reading data"
      ]
    },
    {
      "cell_type": "code",
      "metadata": {
        "colab": {
          "base_uri": "https://localhost:8080/",
          "height": 206
        },
        "id": "aCX7wEemjZrk",
        "outputId": "9b51da92-492a-4159-ab16-4e5c74ab7552"
      },
      "source": [
        "# First we load our dataset\n",
        "#\n",
        "# We had downloaded our dataset from our browser\n",
        "#So, we'll need to upload our downloaded file to our location or just drag the file\n",
        "#\n",
        "# \n",
        "\n",
        "# Let's read the milk excel file\n",
        "df_milk = pd.read_excel(\"/content/Excelsample.xlsx\")\n",
        "\n",
        "# Previewing the first five records\n",
        "df_milk.head()"
      ],
      "execution_count": null,
      "outputs": [
        {
          "output_type": "execute_result",
          "data": {
            "text/plain": [
              "  Delivery Date Depot Name Route Name   Weight  Sales_Amount\n",
              "0    2019-01-01    Depot 1    Route 1  2639.94      248751.0\n",
              "1    2019-01-01    Depot 1    Route 2  3389.89      259271.0\n",
              "2    2019-01-01    Depot 1    Route 3  2160.94      198180.0\n",
              "3    2019-01-01    Depot 1    Route 4  3097.03      283703.0\n",
              "4    2019-01-01    Depot 1    Route 5  2438.94      220983.0"
            ],
            "text/html": [
              "\n",
              "  <div id=\"df-263f4fe1-e538-4b27-9c2d-5224a8ac6d90\">\n",
              "    <div class=\"colab-df-container\">\n",
              "      <div>\n",
              "<style scoped>\n",
              "    .dataframe tbody tr th:only-of-type {\n",
              "        vertical-align: middle;\n",
              "    }\n",
              "\n",
              "    .dataframe tbody tr th {\n",
              "        vertical-align: top;\n",
              "    }\n",
              "\n",
              "    .dataframe thead th {\n",
              "        text-align: right;\n",
              "    }\n",
              "</style>\n",
              "<table border=\"1\" class=\"dataframe\">\n",
              "  <thead>\n",
              "    <tr style=\"text-align: right;\">\n",
              "      <th></th>\n",
              "      <th>Delivery Date</th>\n",
              "      <th>Depot Name</th>\n",
              "      <th>Route Name</th>\n",
              "      <th>Weight</th>\n",
              "      <th>Sales_Amount</th>\n",
              "    </tr>\n",
              "  </thead>\n",
              "  <tbody>\n",
              "    <tr>\n",
              "      <th>0</th>\n",
              "      <td>2019-01-01</td>\n",
              "      <td>Depot 1</td>\n",
              "      <td>Route 1</td>\n",
              "      <td>2639.94</td>\n",
              "      <td>248751.0</td>\n",
              "    </tr>\n",
              "    <tr>\n",
              "      <th>1</th>\n",
              "      <td>2019-01-01</td>\n",
              "      <td>Depot 1</td>\n",
              "      <td>Route 2</td>\n",
              "      <td>3389.89</td>\n",
              "      <td>259271.0</td>\n",
              "    </tr>\n",
              "    <tr>\n",
              "      <th>2</th>\n",
              "      <td>2019-01-01</td>\n",
              "      <td>Depot 1</td>\n",
              "      <td>Route 3</td>\n",
              "      <td>2160.94</td>\n",
              "      <td>198180.0</td>\n",
              "    </tr>\n",
              "    <tr>\n",
              "      <th>3</th>\n",
              "      <td>2019-01-01</td>\n",
              "      <td>Depot 1</td>\n",
              "      <td>Route 4</td>\n",
              "      <td>3097.03</td>\n",
              "      <td>283703.0</td>\n",
              "    </tr>\n",
              "    <tr>\n",
              "      <th>4</th>\n",
              "      <td>2019-01-01</td>\n",
              "      <td>Depot 1</td>\n",
              "      <td>Route 5</td>\n",
              "      <td>2438.94</td>\n",
              "      <td>220983.0</td>\n",
              "    </tr>\n",
              "  </tbody>\n",
              "</table>\n",
              "</div>\n",
              "      <button class=\"colab-df-convert\" onclick=\"convertToInteractive('df-263f4fe1-e538-4b27-9c2d-5224a8ac6d90')\"\n",
              "              title=\"Convert this dataframe to an interactive table.\"\n",
              "              style=\"display:none;\">\n",
              "        \n",
              "  <svg xmlns=\"http://www.w3.org/2000/svg\" height=\"24px\"viewBox=\"0 0 24 24\"\n",
              "       width=\"24px\">\n",
              "    <path d=\"M0 0h24v24H0V0z\" fill=\"none\"/>\n",
              "    <path d=\"M18.56 5.44l.94 2.06.94-2.06 2.06-.94-2.06-.94-.94-2.06-.94 2.06-2.06.94zm-11 1L8.5 8.5l.94-2.06 2.06-.94-2.06-.94L8.5 2.5l-.94 2.06-2.06.94zm10 10l.94 2.06.94-2.06 2.06-.94-2.06-.94-.94-2.06-.94 2.06-2.06.94z\"/><path d=\"M17.41 7.96l-1.37-1.37c-.4-.4-.92-.59-1.43-.59-.52 0-1.04.2-1.43.59L10.3 9.45l-7.72 7.72c-.78.78-.78 2.05 0 2.83L4 21.41c.39.39.9.59 1.41.59.51 0 1.02-.2 1.41-.59l7.78-7.78 2.81-2.81c.8-.78.8-2.07 0-2.86zM5.41 20L4 18.59l7.72-7.72 1.47 1.35L5.41 20z\"/>\n",
              "  </svg>\n",
              "      </button>\n",
              "      \n",
              "  <style>\n",
              "    .colab-df-container {\n",
              "      display:flex;\n",
              "      flex-wrap:wrap;\n",
              "      gap: 12px;\n",
              "    }\n",
              "\n",
              "    .colab-df-convert {\n",
              "      background-color: #E8F0FE;\n",
              "      border: none;\n",
              "      border-radius: 50%;\n",
              "      cursor: pointer;\n",
              "      display: none;\n",
              "      fill: #1967D2;\n",
              "      height: 32px;\n",
              "      padding: 0 0 0 0;\n",
              "      width: 32px;\n",
              "    }\n",
              "\n",
              "    .colab-df-convert:hover {\n",
              "      background-color: #E2EBFA;\n",
              "      box-shadow: 0px 1px 2px rgba(60, 64, 67, 0.3), 0px 1px 3px 1px rgba(60, 64, 67, 0.15);\n",
              "      fill: #174EA6;\n",
              "    }\n",
              "\n",
              "    [theme=dark] .colab-df-convert {\n",
              "      background-color: #3B4455;\n",
              "      fill: #D2E3FC;\n",
              "    }\n",
              "\n",
              "    [theme=dark] .colab-df-convert:hover {\n",
              "      background-color: #434B5C;\n",
              "      box-shadow: 0px 1px 3px 1px rgba(0, 0, 0, 0.15);\n",
              "      filter: drop-shadow(0px 1px 2px rgba(0, 0, 0, 0.3));\n",
              "      fill: #FFFFFF;\n",
              "    }\n",
              "  </style>\n",
              "\n",
              "      <script>\n",
              "        const buttonEl =\n",
              "          document.querySelector('#df-263f4fe1-e538-4b27-9c2d-5224a8ac6d90 button.colab-df-convert');\n",
              "        buttonEl.style.display =\n",
              "          google.colab.kernel.accessAllowed ? 'block' : 'none';\n",
              "\n",
              "        async function convertToInteractive(key) {\n",
              "          const element = document.querySelector('#df-263f4fe1-e538-4b27-9c2d-5224a8ac6d90');\n",
              "          const dataTable =\n",
              "            await google.colab.kernel.invokeFunction('convertToInteractive',\n",
              "                                                     [key], {});\n",
              "          if (!dataTable) return;\n",
              "\n",
              "          const docLinkHtml = 'Like what you see? Visit the ' +\n",
              "            '<a target=\"_blank\" href=https://colab.research.google.com/notebooks/data_table.ipynb>data table notebook</a>'\n",
              "            + ' to learn more about interactive tables.';\n",
              "          element.innerHTML = '';\n",
              "          dataTable['output_type'] = 'display_data';\n",
              "          await google.colab.output.renderOutput(dataTable, element);\n",
              "          const docLink = document.createElement('div');\n",
              "          docLink.innerHTML = docLinkHtml;\n",
              "          element.appendChild(docLink);\n",
              "        }\n",
              "      </script>\n",
              "    </div>\n",
              "  </div>\n",
              "  "
            ]
          },
          "metadata": {},
          "execution_count": 7
        }
      ]
    },
    {
      "cell_type": "markdown",
      "metadata": {
        "id": "YXumWtcelhqd"
      },
      "source": [
        "#Data Exploration"
      ]
    },
    {
      "cell_type": "markdown",
      "metadata": {
        "id": "jrbTYYoVlmt8"
      },
      "source": [
        "##Check total number of records"
      ]
    },
    {
      "cell_type": "code",
      "metadata": {
        "colab": {
          "base_uri": "https://localhost:8080/"
        },
        "id": "eZ1k7zNZltlz",
        "outputId": "014b8d18-4d21-4a0e-dca1-18a4b1e2bd8b"
      },
      "source": [
        "#Determining the no. of records in the dataset \n",
        "#\n",
        "#Shape returns no. or records/instances (left) and columns/variables (right)\n",
        "\n",
        "#OUR CODE GOES BELOW\n",
        "#\n",
        "df_milk.shape"
      ],
      "execution_count": null,
      "outputs": [
        {
          "output_type": "execute_result",
          "data": {
            "text/plain": [
              "(3772, 5)"
            ]
          },
          "metadata": {},
          "execution_count": 6
        }
      ]
    },
    {
      "cell_type": "code",
      "metadata": {
        "colab": {
          "base_uri": "https://localhost:8080/",
          "height": 206
        },
        "id": "U_1MJTtimc7L",
        "outputId": "f177e34c-e824-4d86-bde5-bc06d50e217e"
      },
      "source": [
        "# We can also previewing the last five records of our dataset\n",
        "#\n",
        "#OUR CODE GOES BELOW\n",
        "#\n",
        "df_milk.tail(5)\n"
      ],
      "execution_count": null,
      "outputs": [
        {
          "output_type": "execute_result",
          "data": {
            "text/html": [
              "<div>\n",
              "<style scoped>\n",
              "    .dataframe tbody tr th:only-of-type {\n",
              "        vertical-align: middle;\n",
              "    }\n",
              "\n",
              "    .dataframe tbody tr th {\n",
              "        vertical-align: top;\n",
              "    }\n",
              "\n",
              "    .dataframe thead th {\n",
              "        text-align: right;\n",
              "    }\n",
              "</style>\n",
              "<table border=\"1\" class=\"dataframe\">\n",
              "  <thead>\n",
              "    <tr style=\"text-align: right;\">\n",
              "      <th></th>\n",
              "      <th>Delivery Date</th>\n",
              "      <th>Depot Name</th>\n",
              "      <th>Route Name</th>\n",
              "      <th>Weight</th>\n",
              "      <th>Sales_Amount</th>\n",
              "    </tr>\n",
              "  </thead>\n",
              "  <tbody>\n",
              "    <tr>\n",
              "      <th>3767</th>\n",
              "      <td>2019-01-30</td>\n",
              "      <td>Depot 17</td>\n",
              "      <td>Route 149</td>\n",
              "      <td>2003.26</td>\n",
              "      <td>219335.0</td>\n",
              "    </tr>\n",
              "    <tr>\n",
              "      <th>3768</th>\n",
              "      <td>2019-01-30</td>\n",
              "      <td>Depot 17</td>\n",
              "      <td>Route 146</td>\n",
              "      <td>1481.63</td>\n",
              "      <td>142161.0</td>\n",
              "    </tr>\n",
              "    <tr>\n",
              "      <th>3769</th>\n",
              "      <td>2019-01-30</td>\n",
              "      <td>Depot 17</td>\n",
              "      <td>Route 145</td>\n",
              "      <td>2559.52</td>\n",
              "      <td>246753.0</td>\n",
              "    </tr>\n",
              "    <tr>\n",
              "      <th>3770</th>\n",
              "      <td>2019-01-30</td>\n",
              "      <td>Depot 17</td>\n",
              "      <td>Route 144</td>\n",
              "      <td>1772.09</td>\n",
              "      <td>148114.0</td>\n",
              "    </tr>\n",
              "    <tr>\n",
              "      <th>3771</th>\n",
              "      <td>2019-01-30</td>\n",
              "      <td>Depot 17</td>\n",
              "      <td>Route 150</td>\n",
              "      <td>2058.16</td>\n",
              "      <td>178374.0</td>\n",
              "    </tr>\n",
              "  </tbody>\n",
              "</table>\n",
              "</div>"
            ],
            "text/plain": [
              "     Delivery Date Depot Name Route Name   Weight  Sales_Amount\n",
              "3767    2019-01-30   Depot 17  Route 149  2003.26      219335.0\n",
              "3768    2019-01-30   Depot 17  Route 146  1481.63      142161.0\n",
              "3769    2019-01-30   Depot 17  Route 145  2559.52      246753.0\n",
              "3770    2019-01-30   Depot 17  Route 144  1772.09      148114.0\n",
              "3771    2019-01-30   Depot 17  Route 150  2058.16      178374.0"
            ]
          },
          "metadata": {},
          "execution_count": 7
        }
      ]
    },
    {
      "cell_type": "code",
      "metadata": {
        "colab": {
          "base_uri": "https://localhost:8080/"
        },
        "id": "1jvv0ME3m7SR",
        "outputId": "176893cb-d6dc-4454-9019-ec6c2f93f04d"
      },
      "source": [
        "#We can also check the datatypes of our dataset\n",
        "#\n",
        "#OUR CODE GOES BELOW\n",
        "#\n",
        "df_milk.dtypes"
      ],
      "execution_count": null,
      "outputs": [
        {
          "output_type": "execute_result",
          "data": {
            "text/plain": [
              "Delivery Date    datetime64[ns]\n",
              "Depot Name               object\n",
              "Route Name               object\n",
              "Weight                  float64\n",
              "Sales_Amount            float64\n",
              "dtype: object"
            ]
          },
          "metadata": {},
          "execution_count": 8
        }
      ]
    },
    {
      "cell_type": "code",
      "metadata": {
        "colab": {
          "base_uri": "https://localhost:8080/",
          "height": 300
        },
        "id": "DgI6wHC4Lgtx",
        "outputId": "ba712168-0078-4fc1-b284-809ab7207c35"
      },
      "source": [
        "df_milk.describe()"
      ],
      "execution_count": null,
      "outputs": [
        {
          "output_type": "execute_result",
          "data": {
            "text/html": [
              "<div>\n",
              "<style scoped>\n",
              "    .dataframe tbody tr th:only-of-type {\n",
              "        vertical-align: middle;\n",
              "    }\n",
              "\n",
              "    .dataframe tbody tr th {\n",
              "        vertical-align: top;\n",
              "    }\n",
              "\n",
              "    .dataframe thead th {\n",
              "        text-align: right;\n",
              "    }\n",
              "</style>\n",
              "<table border=\"1\" class=\"dataframe\">\n",
              "  <thead>\n",
              "    <tr style=\"text-align: right;\">\n",
              "      <th></th>\n",
              "      <th>Weight</th>\n",
              "      <th>Sales_Amount</th>\n",
              "    </tr>\n",
              "  </thead>\n",
              "  <tbody>\n",
              "    <tr>\n",
              "      <th>count</th>\n",
              "      <td>3772.000000</td>\n",
              "      <td>3772.000000</td>\n",
              "    </tr>\n",
              "    <tr>\n",
              "      <th>mean</th>\n",
              "      <td>2365.279981</td>\n",
              "      <td>206309.702545</td>\n",
              "    </tr>\n",
              "    <tr>\n",
              "      <th>std</th>\n",
              "      <td>964.729879</td>\n",
              "      <td>94770.025019</td>\n",
              "    </tr>\n",
              "    <tr>\n",
              "      <th>min</th>\n",
              "      <td>1.000000</td>\n",
              "      <td>35.000000</td>\n",
              "    </tr>\n",
              "    <tr>\n",
              "      <th>25%</th>\n",
              "      <td>1750.235000</td>\n",
              "      <td>140687.000000</td>\n",
              "    </tr>\n",
              "    <tr>\n",
              "      <th>50%</th>\n",
              "      <td>2271.340000</td>\n",
              "      <td>196139.500000</td>\n",
              "    </tr>\n",
              "    <tr>\n",
              "      <th>75%</th>\n",
              "      <td>2887.315000</td>\n",
              "      <td>259431.000000</td>\n",
              "    </tr>\n",
              "    <tr>\n",
              "      <th>max</th>\n",
              "      <td>14082.520000</td>\n",
              "      <td>968620.000000</td>\n",
              "    </tr>\n",
              "  </tbody>\n",
              "</table>\n",
              "</div>"
            ],
            "text/plain": [
              "             Weight   Sales_Amount\n",
              "count   3772.000000    3772.000000\n",
              "mean    2365.279981  206309.702545\n",
              "std      964.729879   94770.025019\n",
              "min        1.000000      35.000000\n",
              "25%     1750.235000  140687.000000\n",
              "50%     2271.340000  196139.500000\n",
              "75%     2887.315000  259431.000000\n",
              "max    14082.520000  968620.000000"
            ]
          },
          "metadata": {},
          "execution_count": 9
        }
      ]
    },
    {
      "cell_type": "markdown",
      "metadata": {
        "id": "UyVjF2tAnUrV"
      },
      "source": [
        "##Missing Data"
      ]
    },
    {
      "cell_type": "code",
      "metadata": {
        "colab": {
          "base_uri": "https://localhost:8080/",
          "height": 424
        },
        "id": "965ENJFdnp5b",
        "outputId": "a39ee08d-531d-40a4-dffe-a09abf5dee68"
      },
      "source": [
        "#Checking missing data\n",
        "#\n",
        "#OUR CODE GOES BELOW\n",
        "\n",
        "df_milk.isnull()"
      ],
      "execution_count": null,
      "outputs": [
        {
          "output_type": "execute_result",
          "data": {
            "text/html": [
              "<div>\n",
              "<style scoped>\n",
              "    .dataframe tbody tr th:only-of-type {\n",
              "        vertical-align: middle;\n",
              "    }\n",
              "\n",
              "    .dataframe tbody tr th {\n",
              "        vertical-align: top;\n",
              "    }\n",
              "\n",
              "    .dataframe thead th {\n",
              "        text-align: right;\n",
              "    }\n",
              "</style>\n",
              "<table border=\"1\" class=\"dataframe\">\n",
              "  <thead>\n",
              "    <tr style=\"text-align: right;\">\n",
              "      <th></th>\n",
              "      <th>Delivery Date</th>\n",
              "      <th>Depot Name</th>\n",
              "      <th>Route Name</th>\n",
              "      <th>Weight</th>\n",
              "      <th>Sales_Amount</th>\n",
              "    </tr>\n",
              "  </thead>\n",
              "  <tbody>\n",
              "    <tr>\n",
              "      <th>0</th>\n",
              "      <td>False</td>\n",
              "      <td>False</td>\n",
              "      <td>False</td>\n",
              "      <td>False</td>\n",
              "      <td>False</td>\n",
              "    </tr>\n",
              "    <tr>\n",
              "      <th>1</th>\n",
              "      <td>False</td>\n",
              "      <td>False</td>\n",
              "      <td>False</td>\n",
              "      <td>False</td>\n",
              "      <td>False</td>\n",
              "    </tr>\n",
              "    <tr>\n",
              "      <th>2</th>\n",
              "      <td>False</td>\n",
              "      <td>False</td>\n",
              "      <td>False</td>\n",
              "      <td>False</td>\n",
              "      <td>False</td>\n",
              "    </tr>\n",
              "    <tr>\n",
              "      <th>3</th>\n",
              "      <td>False</td>\n",
              "      <td>False</td>\n",
              "      <td>False</td>\n",
              "      <td>False</td>\n",
              "      <td>False</td>\n",
              "    </tr>\n",
              "    <tr>\n",
              "      <th>4</th>\n",
              "      <td>False</td>\n",
              "      <td>False</td>\n",
              "      <td>False</td>\n",
              "      <td>False</td>\n",
              "      <td>False</td>\n",
              "    </tr>\n",
              "    <tr>\n",
              "      <th>...</th>\n",
              "      <td>...</td>\n",
              "      <td>...</td>\n",
              "      <td>...</td>\n",
              "      <td>...</td>\n",
              "      <td>...</td>\n",
              "    </tr>\n",
              "    <tr>\n",
              "      <th>3767</th>\n",
              "      <td>False</td>\n",
              "      <td>False</td>\n",
              "      <td>False</td>\n",
              "      <td>False</td>\n",
              "      <td>False</td>\n",
              "    </tr>\n",
              "    <tr>\n",
              "      <th>3768</th>\n",
              "      <td>False</td>\n",
              "      <td>False</td>\n",
              "      <td>False</td>\n",
              "      <td>False</td>\n",
              "      <td>False</td>\n",
              "    </tr>\n",
              "    <tr>\n",
              "      <th>3769</th>\n",
              "      <td>False</td>\n",
              "      <td>False</td>\n",
              "      <td>False</td>\n",
              "      <td>False</td>\n",
              "      <td>False</td>\n",
              "    </tr>\n",
              "    <tr>\n",
              "      <th>3770</th>\n",
              "      <td>False</td>\n",
              "      <td>False</td>\n",
              "      <td>False</td>\n",
              "      <td>False</td>\n",
              "      <td>False</td>\n",
              "    </tr>\n",
              "    <tr>\n",
              "      <th>3771</th>\n",
              "      <td>False</td>\n",
              "      <td>False</td>\n",
              "      <td>False</td>\n",
              "      <td>False</td>\n",
              "      <td>False</td>\n",
              "    </tr>\n",
              "  </tbody>\n",
              "</table>\n",
              "<p>3772 rows × 5 columns</p>\n",
              "</div>"
            ],
            "text/plain": [
              "      Delivery Date  Depot Name  Route Name  Weight  Sales_Amount\n",
              "0             False       False       False   False         False\n",
              "1             False       False       False   False         False\n",
              "2             False       False       False   False         False\n",
              "3             False       False       False   False         False\n",
              "4             False       False       False   False         False\n",
              "...             ...         ...         ...     ...           ...\n",
              "3767          False       False       False   False         False\n",
              "3768          False       False       False   False         False\n",
              "3769          False       False       False   False         False\n",
              "3770          False       False       False   False         False\n",
              "3771          False       False       False   False         False\n",
              "\n",
              "[3772 rows x 5 columns]"
            ]
          },
          "metadata": {},
          "execution_count": 10
        }
      ]
    },
    {
      "cell_type": "code",
      "metadata": {
        "colab": {
          "base_uri": "https://localhost:8080/"
        },
        "id": "ZtlaLrUkne_R",
        "outputId": "de0dfd0c-517c-4b79-ea1c-1f4df7109462"
      },
      "source": [
        "# We can also check for missing values in each column \n",
        "# ---\n",
        "# OUR CODE GOES BELOW\n",
        "#\n",
        "df_milk.isnull().any()"
      ],
      "execution_count": null,
      "outputs": [
        {
          "output_type": "execute_result",
          "data": {
            "text/plain": [
              "Delivery Date    False\n",
              "Depot Name       False\n",
              "Route Name       False\n",
              "Weight           False\n",
              "Sales_Amount     False\n",
              "dtype: bool"
            ]
          },
          "metadata": {},
          "execution_count": 11
        }
      ]
    },
    {
      "cell_type": "code",
      "metadata": {
        "colab": {
          "base_uri": "https://localhost:8080/"
        },
        "id": "THB8fwN0ocAS",
        "outputId": "258bac64-abc6-4119-bed6-b1976d6209d7"
      },
      "source": [
        "# We can check how many missing values there are across each column by \n",
        "# ---\n",
        "# OUR CODE GOES BELOW\n",
        "#\n",
        "df_milk.isnull().sum()"
      ],
      "execution_count": null,
      "outputs": [
        {
          "output_type": "execute_result",
          "data": {
            "text/plain": [
              "Delivery Date    0\n",
              "Depot Name       0\n",
              "Route Name       0\n",
              "Weight           0\n",
              "Sales_Amount     0\n",
              "dtype: int64"
            ]
          },
          "metadata": {},
          "execution_count": 12
        }
      ]
    },
    {
      "cell_type": "markdown",
      "metadata": {
        "id": "36xKuDInpNiD"
      },
      "source": [
        "##Duplicates"
      ]
    },
    {
      "cell_type": "code",
      "metadata": {
        "id": "zHOLH_56pRgb",
        "colab": {
          "base_uri": "https://localhost:8080/"
        },
        "outputId": "86fe96f7-f974-487f-c5ae-71ba78b9f8f7"
      },
      "source": [
        "df_milk[df_milk.duplicated()].shape"
      ],
      "execution_count": null,
      "outputs": [
        {
          "output_type": "execute_result",
          "data": {
            "text/plain": [
              "(0, 5)"
            ]
          },
          "metadata": {},
          "execution_count": 13
        }
      ]
    },
    {
      "cell_type": "code",
      "metadata": {
        "id": "ZDEj8b9diT-Z"
      },
      "source": [
        "df_milk = df_milk.drop_duplicates()"
      ],
      "execution_count": null,
      "outputs": []
    },
    {
      "cell_type": "markdown",
      "metadata": {
        "id": "NozqXNpSUj6f"
      },
      "source": [
        "There were no duplicates in our data set"
      ]
    },
    {
      "cell_type": "markdown",
      "metadata": {
        "id": "r0vRyRMxpfZi"
      },
      "source": [
        "##Outliers"
      ]
    },
    {
      "cell_type": "code",
      "metadata": {
        "id": "H3HZy3gvww0B"
      },
      "source": [],
      "execution_count": null,
      "outputs": []
    },
    {
      "cell_type": "code",
      "metadata": {
        "colab": {
          "base_uri": "https://localhost:8080/",
          "height": 206
        },
        "id": "GEvv-MGApkOW",
        "outputId": "dbd40ce0-b0c0-4c3d-92fb-b9847cd2770f"
      },
      "source": [
        "# Dealing with outliers.\n",
        "# ---\n",
        "# ---\n",
        "# OUR CODE GOES BELOW\n",
        "#  \n",
        "\n",
        "# Let's read data from url as dataframe\n",
        "# \n",
        "outliersc_df = pd.read_excel(\"/content/Excelsample.xlsx\") \n",
        "\n",
        "# Lets preview our our dataframe below\n",
        "#\n",
        "\n",
        "outliersc_df.head()"
      ],
      "execution_count": null,
      "outputs": [
        {
          "output_type": "execute_result",
          "data": {
            "text/html": [
              "<div>\n",
              "<style scoped>\n",
              "    .dataframe tbody tr th:only-of-type {\n",
              "        vertical-align: middle;\n",
              "    }\n",
              "\n",
              "    .dataframe tbody tr th {\n",
              "        vertical-align: top;\n",
              "    }\n",
              "\n",
              "    .dataframe thead th {\n",
              "        text-align: right;\n",
              "    }\n",
              "</style>\n",
              "<table border=\"1\" class=\"dataframe\">\n",
              "  <thead>\n",
              "    <tr style=\"text-align: right;\">\n",
              "      <th></th>\n",
              "      <th>Delivery Date</th>\n",
              "      <th>Depot Name</th>\n",
              "      <th>Route Name</th>\n",
              "      <th>Weight</th>\n",
              "      <th>Sales_Amount</th>\n",
              "    </tr>\n",
              "  </thead>\n",
              "  <tbody>\n",
              "    <tr>\n",
              "      <th>0</th>\n",
              "      <td>2019-01-01</td>\n",
              "      <td>Depot 1</td>\n",
              "      <td>Route 1</td>\n",
              "      <td>2639.94</td>\n",
              "      <td>248751.0</td>\n",
              "    </tr>\n",
              "    <tr>\n",
              "      <th>1</th>\n",
              "      <td>2019-01-01</td>\n",
              "      <td>Depot 1</td>\n",
              "      <td>Route 2</td>\n",
              "      <td>3389.89</td>\n",
              "      <td>259271.0</td>\n",
              "    </tr>\n",
              "    <tr>\n",
              "      <th>2</th>\n",
              "      <td>2019-01-01</td>\n",
              "      <td>Depot 1</td>\n",
              "      <td>Route 3</td>\n",
              "      <td>2160.94</td>\n",
              "      <td>198180.0</td>\n",
              "    </tr>\n",
              "    <tr>\n",
              "      <th>3</th>\n",
              "      <td>2019-01-01</td>\n",
              "      <td>Depot 1</td>\n",
              "      <td>Route 4</td>\n",
              "      <td>3097.03</td>\n",
              "      <td>283703.0</td>\n",
              "    </tr>\n",
              "    <tr>\n",
              "      <th>4</th>\n",
              "      <td>2019-01-01</td>\n",
              "      <td>Depot 1</td>\n",
              "      <td>Route 5</td>\n",
              "      <td>2438.94</td>\n",
              "      <td>220983.0</td>\n",
              "    </tr>\n",
              "  </tbody>\n",
              "</table>\n",
              "</div>"
            ],
            "text/plain": [
              "  Delivery Date Depot Name Route Name   Weight  Sales_Amount\n",
              "0    2019-01-01    Depot 1    Route 1  2639.94      248751.0\n",
              "1    2019-01-01    Depot 1    Route 2  3389.89      259271.0\n",
              "2    2019-01-01    Depot 1    Route 3  2160.94      198180.0\n",
              "3    2019-01-01    Depot 1    Route 4  3097.03      283703.0\n",
              "4    2019-01-01    Depot 1    Route 5  2438.94      220983.0"
            ]
          },
          "metadata": {},
          "execution_count": 15
        }
      ]
    },
    {
      "cell_type": "code",
      "metadata": {
        "colab": {
          "base_uri": "https://localhost:8080/"
        },
        "id": "0rIkUNZcq4Wa",
        "outputId": "3cac6f28-366f-44b2-d7ab-afd6ff4cac3b"
      },
      "source": [
        "outliersc_df.shape"
      ],
      "execution_count": null,
      "outputs": [
        {
          "output_type": "execute_result",
          "data": {
            "text/plain": [
              "(3772, 5)"
            ]
          },
          "metadata": {},
          "execution_count": 16
        }
      ]
    },
    {
      "cell_type": "code",
      "metadata": {
        "id": "2QZnkuZBrCgE",
        "colab": {
          "base_uri": "https://localhost:8080/"
        },
        "outputId": "f6a78227-0195-46c6-c41f-0a0d789dc2f3"
      },
      "source": [
        "#There are many ways of dealing with the outliers however in this session we wiil \n",
        "# use the interquartile range (IQR). \n",
        "# The IQR is the first quartile subtracted from the third quartile, \n",
        "# i.e. the range covered by the middle 50% of the data. Values outside this range\n",
        "# will be considered as outliers. If we were to use a box plot visualisation then,\n",
        "# we would be able to visually see those values outside this range. \n",
        "# Something to note is that this method will consider only the numerical values in \n",
        "# our dataset. Lets now calculate the IQR for each column.\n",
        "# ---\n",
        "#\n",
        "\n",
        "# We first defining our quantiles using the quantile() function\n",
        "# ---\n",
        "# \n",
        "Q1 = outliersc_df.quantile(0.25)\n",
        "Q3 = outliersc_df.quantile(0.75)\n",
        "IQR = Q3 - Q1\n",
        "IQR\n",
        "\n",
        "# Then filtering out our outliers by getting values which are outside our IQR Range.\n",
        "# ---\n",
        "#\n",
        "#outliers_df_iqr = outliersc_df[((outliersc_df < (Q1 - 1.5 * IQR)) | (outliersc_df > (Q3 + 1.5 * IQR))).any(axis=1)]\n",
        "\n",
        "# Checking the size of the dataset with outliers for cleaning purposes\n",
        "# ---\n",
        "#\n",
        "#outliers_df_iqr.shape\n"
      ],
      "execution_count": null,
      "outputs": [
        {
          "output_type": "execute_result",
          "data": {
            "text/plain": [
              "Weight            1137.08\n",
              "Sales_Amount    118744.00\n",
              "dtype: float64"
            ]
          },
          "metadata": {},
          "execution_count": 17
        }
      ]
    },
    {
      "cell_type": "code",
      "metadata": {
        "colab": {
          "base_uri": "https://localhost:8080/"
        },
        "id": "vuP28Qdsv7nV",
        "outputId": "9c33a4cd-58f3-497a-f131-509ec51a1bcb"
      },
      "source": [
        "# previewing the correlation between the Weight and the Sales_Amount variables\n",
        "corr = outliersc_df.corr()\n",
        "corr.Weight['Sales_Amount']"
      ],
      "execution_count": null,
      "outputs": [
        {
          "output_type": "execute_result",
          "data": {
            "text/plain": [
              "0.9156292253620739"
            ]
          },
          "metadata": {},
          "execution_count": 18
        }
      ]
    },
    {
      "cell_type": "markdown",
      "metadata": {
        "id": "-XLgHsD_wtMF"
      },
      "source": [
        "There is a strong correlation between the Weight variable and the Sales Amount variable , implying that the more the weight,  the more the Sales Amount"
      ]
    },
    {
      "cell_type": "code",
      "metadata": {
        "id": "UogJNFD7lYlS",
        "colab": {
          "base_uri": "https://localhost:8080/",
          "height": 206
        },
        "outputId": "aa0b0641-819c-4e68-85d9-f7f6048091b3"
      },
      "source": [
        "# A Box plot helps us visualize the distribution of numerical values in a variable.\n",
        "#\n",
        "#\n",
        "df_outliers = pd.read_excel('/content/Excelsample.xlsx')\n",
        "df_outliers.head()"
      ],
      "execution_count": null,
      "outputs": [
        {
          "output_type": "execute_result",
          "data": {
            "text/html": [
              "<div>\n",
              "<style scoped>\n",
              "    .dataframe tbody tr th:only-of-type {\n",
              "        vertical-align: middle;\n",
              "    }\n",
              "\n",
              "    .dataframe tbody tr th {\n",
              "        vertical-align: top;\n",
              "    }\n",
              "\n",
              "    .dataframe thead th {\n",
              "        text-align: right;\n",
              "    }\n",
              "</style>\n",
              "<table border=\"1\" class=\"dataframe\">\n",
              "  <thead>\n",
              "    <tr style=\"text-align: right;\">\n",
              "      <th></th>\n",
              "      <th>Delivery Date</th>\n",
              "      <th>Depot Name</th>\n",
              "      <th>Route Name</th>\n",
              "      <th>Weight</th>\n",
              "      <th>Sales_Amount</th>\n",
              "    </tr>\n",
              "  </thead>\n",
              "  <tbody>\n",
              "    <tr>\n",
              "      <th>0</th>\n",
              "      <td>2019-01-01</td>\n",
              "      <td>Depot 1</td>\n",
              "      <td>Route 1</td>\n",
              "      <td>2639.94</td>\n",
              "      <td>248751.0</td>\n",
              "    </tr>\n",
              "    <tr>\n",
              "      <th>1</th>\n",
              "      <td>2019-01-01</td>\n",
              "      <td>Depot 1</td>\n",
              "      <td>Route 2</td>\n",
              "      <td>3389.89</td>\n",
              "      <td>259271.0</td>\n",
              "    </tr>\n",
              "    <tr>\n",
              "      <th>2</th>\n",
              "      <td>2019-01-01</td>\n",
              "      <td>Depot 1</td>\n",
              "      <td>Route 3</td>\n",
              "      <td>2160.94</td>\n",
              "      <td>198180.0</td>\n",
              "    </tr>\n",
              "    <tr>\n",
              "      <th>3</th>\n",
              "      <td>2019-01-01</td>\n",
              "      <td>Depot 1</td>\n",
              "      <td>Route 4</td>\n",
              "      <td>3097.03</td>\n",
              "      <td>283703.0</td>\n",
              "    </tr>\n",
              "    <tr>\n",
              "      <th>4</th>\n",
              "      <td>2019-01-01</td>\n",
              "      <td>Depot 1</td>\n",
              "      <td>Route 5</td>\n",
              "      <td>2438.94</td>\n",
              "      <td>220983.0</td>\n",
              "    </tr>\n",
              "  </tbody>\n",
              "</table>\n",
              "</div>"
            ],
            "text/plain": [
              "  Delivery Date Depot Name Route Name   Weight  Sales_Amount\n",
              "0    2019-01-01    Depot 1    Route 1  2639.94      248751.0\n",
              "1    2019-01-01    Depot 1    Route 2  3389.89      259271.0\n",
              "2    2019-01-01    Depot 1    Route 3  2160.94      198180.0\n",
              "3    2019-01-01    Depot 1    Route 4  3097.03      283703.0\n",
              "4    2019-01-01    Depot 1    Route 5  2438.94      220983.0"
            ]
          },
          "metadata": {},
          "execution_count": 19
        }
      ]
    },
    {
      "cell_type": "code",
      "metadata": {
        "id": "Au7awYdWmCgn",
        "colab": {
          "base_uri": "https://localhost:8080/"
        },
        "outputId": "f7ec0116-d42c-42b6-908b-c505600bacff"
      },
      "source": [
        "# Checking for the unique values in the Depot Name feature\n",
        "# ---\n",
        "# \n",
        "df_outliers['Depot Name'].unique()"
      ],
      "execution_count": null,
      "outputs": [
        {
          "output_type": "execute_result",
          "data": {
            "text/plain": [
              "array(['Depot 1', 'Depot 2', 'Depot 3', 'Depot 4', 'Depot 5', 'Depot 6',\n",
              "       'Depot 7', 'Depot 8', 'Depot 9', 'Depot 10', 'Depot 11',\n",
              "       'Depot 12', 'Depot 13', 'Depot 14', 'Depot 15', 'Depot 16',\n",
              "       'Depot 17'], dtype=object)"
            ]
          },
          "metadata": {},
          "execution_count": 20
        }
      ]
    },
    {
      "cell_type": "code",
      "metadata": {
        "id": "Q8uT7gU8onzx",
        "colab": {
          "base_uri": "https://localhost:8080/",
          "height": 196
        },
        "outputId": "0d2ff1bf-46ba-4c9e-d8de-68c5face1b40"
      },
      "source": [
        "# We will can now plot a box plot for depot name where feature\n",
        "# Depot Name = Depot 1. \n",
        "#\n",
        "plt.figure(figsize=(5,2))\n",
        "\n",
        "# Seaborn also allows us to use a theme/appearance for our visualisations\n",
        "# This is how we set a theme. Seaborn has 5 themes that we can use \n",
        "# i.e. darkgrid , whitegrid , dark , white , and ticks\n",
        "# ----\n",
        "sns.set_style('ticks')\n",
        "\n",
        "\n",
        "sns.boxplot(x=df_outliers[df_outliers['Depot Name']=='Depot 1']['Weight']) \n",
        "plt.title(\"Box Plot of Depot 1\", fontsize=10, y=1.01) \n",
        "plt.xlabel(\"weight)\", labelpad=14)\n",
        "plt.show()\n",
        "\n"
      ],
      "execution_count": null,
      "outputs": [
        {
          "output_type": "display_data",
          "data": {
            "image/png": "[encoded data removed]",
            "text/plain": [
              "<Figure size 360x144 with 1 Axes>"
            ]
          },
          "metadata": {
            "needs_background": "light"
          }
        }
      ]
    },
    {
      "cell_type": "code",
      "metadata": {
        "id": "zzAw4dUxvicg",
        "colab": {
          "base_uri": "https://localhost:8080/",
          "height": 306
        },
        "outputId": "b5c219c2-7d8f-4100-c7cd-50b9158b2d29"
      },
      "source": [
        "#box plot\n",
        "\n",
        "sns.boxplot(x=df_outliers[df_outliers['Depot Name']=='Depot 1']['Sales_Amount']) \n",
        "plt.title(\"Box Plot of Depot 1\", fontsize=10, y=1.01) \n",
        "plt.xlabel(\"Sales_Amount)\", labelpad=14)\n",
        "plt.show()"
      ],
      "execution_count": null,
      "outputs": [
        {
          "output_type": "display_data",
          "data": {
            "image/png": "[encoded data removed]",
            "text/plain": [
              "<Figure size 432x288 with 1 Axes>"
            ]
          },
          "metadata": {}
        }
      ]
    },
    {
      "cell_type": "code",
      "metadata": {
        "id": "SP8HDR5-tEdQ",
        "colab": {
          "base_uri": "https://localhost:8080/",
          "height": 352
        },
        "outputId": "adf6c2b1-b9a4-4beb-9c3b-bbb92c151a83"
      },
      "source": [
        "# plotting a boxplot of Depot Name by Weight\n",
        "sns.boxplot(df_outliers.Sales_Amount, df_outliers.Weight)\n",
        "plt.title('Box Plot of Sales_Amount by Weight')\n",
        "plt.show()"
      ],
      "execution_count": null,
      "outputs": [
        {
          "output_type": "stream",
          "name": "stderr",
          "text": [
            "/usr/local/lib/python3.7/dist-packages/seaborn/_decorators.py:43: FutureWarning: Pass the following variables as keyword args: x, y. From version 0.12, the only valid positional argument will be `data`, and passing other arguments without an explicit keyword will result in an error or misinterpretation.\n",
            "  FutureWarning\n"
          ]
        },
        {
          "output_type": "display_data",
          "data": {
            "image/png": "[encoded data removed]",
            "text/plain": [
              "<Figure size 432x288 with 1 Axes>"
            ]
          },
          "metadata": {}
        }
      ]
    }
  ]
}